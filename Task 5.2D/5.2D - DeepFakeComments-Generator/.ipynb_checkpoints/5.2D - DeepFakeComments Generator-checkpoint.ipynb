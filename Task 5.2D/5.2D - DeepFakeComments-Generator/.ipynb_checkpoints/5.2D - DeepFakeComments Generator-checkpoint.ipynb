{
 "cells": [
  {
   "cell_type": "markdown",
   "metadata": {},
   "source": [
    "GitHub: https://github.com/MYUSER/MYPROJECT/"
   ]
  },
  {
   "cell_type": "markdown",
   "metadata": {},
   "source": [
    "\n",
    "Welcome to your assignment this week! \n",
    "\n",
    "To better understand the adverse use of AI, in this assignment, we will look at a Natural Language Processing use case.\n",
    "\n",
    "\n",
    "Natural Language Pocessing (NLP) is a branch of Artificial Intelligence (AI) that helps computers to understand, to interpret and to manipulate natural (i.e. human) language.\n",
    "Imagine NLP-powered machines as black boxes that are capable of understanding and evaluating the context of the input documents (i.e. collection of words), outputting meaningful results that depend on the task the machine is designed for.\n",
    "\n",
    "\n",
    "![](imgs/1_3zMvUnPzYZF9CSHdj6hT5A.png)\n",
    "\n",
    "<caption><center> Documents are fed into magic NLP model capable to get, for instance, the sentiment of the original content</center></caption>\n",
    "\n",
    "\n",
    "In this notebook, you will implement a model that uses an LSTM to generate fake tweets and comments. You will also be able to try it to generate your own fake text. \n",
    "\n",
    "**You will learn to:**\n",
    "- Apply an LSTM to generate fake comments.\n",
    "- Generate your own fake text with deep learning.\n",
    "\n",
    "Please run the following cell to load all the packages required in this assignment. This may take a few minutes. \n"
   ]
  },
  {
   "cell_type": "code",
   "execution_count": 1,
   "metadata": {},
   "outputs": [],
   "source": [
    "#!pip install numpy\n",
    "#!pip install keras\n",
    "#!pip install tensorflow"
   ]
  },
  {
   "cell_type": "markdown",
   "metadata": {},
   "source": [
    "Run the following cell to load the packages you will need."
   ]
  },
  {
   "cell_type": "code",
   "execution_count": 2,
   "metadata": {},
   "outputs": [
    {
     "name": "stderr",
     "output_type": "stream",
     "text": [
      "Using TensorFlow backend.\n"
     ]
    }
   ],
   "source": [
    "import time\n",
    "from tensorflow.keras.preprocessing.sequence import pad_sequences\n",
    "from tensorflow.keras.layers import Embedding, LSTM, Dense, Dropout, Bidirectional\n",
    "from tensorflow.keras.preprocessing.text import Tokenizer\n",
    "from tensorflow.keras.models import Sequential\n",
    "from tensorflow.keras.optimizers import Adam\n",
    "from tensorflow.keras import regularizers\n",
    "import tensorflow.keras.utils as ku \n",
    "import keras.backend as K\n",
    "import matplotlib.pyplot as plt\n",
    "import numpy as np"
   ]
  },
  {
   "cell_type": "markdown",
   "metadata": {},
   "source": [
    "# Build the model"
   ]
  },
  {
   "cell_type": "markdown",
   "metadata": {},
   "source": [
    "Let's define a tokenizer and read the data from disk."
   ]
  },
  {
   "cell_type": "code",
   "execution_count": 3,
   "metadata": {},
   "outputs": [],
   "source": [
    "# punctuations are not taken as tokens from the texts except '.', ',' and '!'\n",
    "# tokeniser provides the maximum number of words to keep in our vocabulary after tokenization\n",
    "tokenizer = Tokenizer(filters='\"#$%&()*+-/:;<=>@[\\\\]^_`{|}~\\t\\n')\n",
    "\n",
    "# separate the punctuation with a space so it can be considered a token of it's own\n",
    "data = open('covid19_fake.txt').read().replace(\".\", \" . \").replace(\",\", \" , \").replace(\"?\", \" ? \").replace(\"!\", \" ! \")"
   ]
  },
  {
   "cell_type": "markdown",
   "metadata": {},
   "source": [
    "Now, let's splits the data into tweets  where each line of the input file is a fake tweets.\n",
    "\n",
    "We also extract the vocabulary of the data."
   ]
  },
  {
   "cell_type": "code",
   "execution_count": 4,
   "metadata": {},
   "outputs": [],
   "source": [
    "# Gets each line of the text and split by the next line\n",
    "# convert all text to lowercase\n",
    "corpus = data.lower().split(\"\\n\")\n",
    "\n",
    "# Updates internal vocabulary based on a list of texts.\n",
    "# In the case where texts contains lists, we assume each entry of the lists to be a token.\n",
    "tokenizer.fit_on_texts(corpus)\n",
    "\n",
    "# 'tokenizer.word_index' maps words in our vocabulary to their numeric representation\n",
    "# input_dim: Integer. Size of the vocabulary, i.e. maximum integer index + 1.\n",
    "# + 1 is because of reserving padding (i.e. index zero).\n",
    "total_words = len(tokenizer.word_index) + 1"
   ]
  },
  {
   "cell_type": "markdown",
   "metadata": {},
   "source": [
    "You've loaded:\n",
    "- `corpus`: an array where each entry is a fake post.\n",
    "- `tokenizer`: which is the object that we will use to vectorize our dataset. This object also contains our word index.\n",
    "- `total_words`: is the total number of words in the vacabulary.\n"
   ]
  },
  {
   "cell_type": "code",
   "execution_count": 5,
   "metadata": {},
   "outputs": [
    {
     "name": "stdout",
     "output_type": "stream",
     "text": [
      "Example of fake tweets:  ['there is already a vaccine to treat covid19 . ', 'cleaning hands do not help to prevent covid19 . ']\n",
      "Size of the vocabulary =  1257\n",
      "Example of our word index =  [('.', 1), ('the', 2), ('covid19', 3), ('in', 4), ('to', 5), ('a', 6), ('of', 7), (',', 8), ('coronavirus', 9), ('and', 10)]\n"
     ]
    }
   ],
   "source": [
    "print(\"Example of fake tweets: \",corpus[:2])\n",
    "print(\"Size of the vocabulary = \", total_words)\n",
    "index = [(k, v) for k, v in tokenizer.word_index.items()]\n",
    "print(\"Example of our word index = \", index[0:10])"
   ]
  },
  {
   "cell_type": "markdown",
   "metadata": {},
   "source": [
    "The next step aims to generate the training set of n_grams sequences."
   ]
  },
  {
   "cell_type": "code",
   "execution_count": 6,
   "metadata": {},
   "outputs": [],
   "source": [
    "# for the input sequence, each array is the addition of a token, which is a word in the list of the sentence\n",
    "# starts from 2 tokens, which is 2 features\n",
    "input_sequences = []\n",
    "for line in corpus:\n",
    "    # the number of token in each sentence, line[0] refers to the single line\n",
    "    # gives a list of integer sequences encoding the words in the sentence\n",
    "    token_list = tokenizer.texts_to_sequences([line])[0]\n",
    "    for i in range(1, len(token_list)):\n",
    "        # for every iteration, add a single word to the sequence\n",
    "        n_gram_sequence = token_list[:i+1]\n",
    "        input_sequences.append(n_gram_sequence)\n",
    "#print(input_sequences)"
   ]
  },
  {
   "cell_type": "code",
   "execution_count": 7,
   "metadata": {},
   "outputs": [
    {
     "name": "stdout",
     "output_type": "stream",
     "text": [
      "[48, 12]\n",
      "[48, 12, 278]\n",
      "[48, 12, 278, 6]\n",
      "[48, 12, 278, 6, 49]\n",
      "[48, 12, 278, 6, 49, 5]\n"
     ]
    }
   ],
   "source": [
    "for i in range(5):\n",
    "    print(input_sequences[i])\n",
    "\n"
   ]
  },
  {
   "cell_type": "markdown",
   "metadata": {},
   "source": [
    "You've create:\n",
    "- `input_sequences`: which is a list of n_grams sequences."
   ]
  },
  {
   "cell_type": "code",
   "execution_count": 8,
   "metadata": {},
   "outputs": [
    {
     "name": "stdout",
     "output_type": "stream",
     "text": [
      "The entry  20  in 'input_sequences' is: \n",
      "[2, 3, 12, 187, 34, 188]\n",
      " and it corresponds to:\n",
      "the covid19 is same as sars "
     ]
    }
   ],
   "source": [
    "\"\"\"\n",
    "To correspond the token with the numeric representations\n",
    "\"\"\"\n",
    "sample = 20\n",
    "# reverse the numeric representations and the values \n",
    "# creates a dictionary, the key, which is the numeric representations, is mapped to the value, which is the token\n",
    "reverse_word_map = dict(map(reversed, tokenizer.word_index.items()))\n",
    "print(\"The entry \",sample,\" in 'input_sequences' is: \")\n",
    "print(input_sequences[sample])\n",
    "print(\" and it corresponds to:\")\n",
    "for i in input_sequences[sample]:\n",
    "    print(reverse_word_map[i], end=' ')\n",
    "                        "
   ]
  },
  {
   "cell_type": "markdown",
   "metadata": {},
   "source": [
    "Next, we padd our training set to the max length in order to be able to make a batch processing."
   ]
  },
  {
   "cell_type": "code",
   "execution_count": 9,
   "metadata": {},
   "outputs": [],
   "source": [
    "# find the longest encoded sequence and use that as our maximum sequence length \n",
    "# to get padding for each encoded sentences\n",
    "max_sequence_len = max([len(x) for x in input_sequences])\n",
    "\n",
    "\n",
    "# pad all other sequences with extra '0's at the start of the sentence\n",
    "# TensorFlow (Keras) pad_sequences module to accomplish this. \n",
    "# pad before each sequence.\n",
    "input_sequences = np.array(pad_sequences(input_sequences, maxlen=max_sequence_len, padding='pre'))\n"
   ]
  },
  {
   "cell_type": "markdown",
   "metadata": {},
   "source": [
    "Run the following to see the containt of the padded 'input_sequences' object."
   ]
  },
  {
   "cell_type": "code",
   "execution_count": 10,
   "metadata": {},
   "outputs": [
    {
     "name": "stdout",
     "output_type": "stream",
     "text": [
      "The entry  20  in 'input_sequences' is: \n",
      "[  0   0   0   0   0   0   0   0   0   0   0   0   0   0   0   0   0   0\n",
      "   0   0   0   0   0   0   0   0   0   0   0   0   0   0   0   0   0   0\n",
      "   0   0   0   0   0   0   0   0   0   0   0   0   0   0   0   0   0   0\n",
      "   0   2   3  12 187  34 188]\n",
      " and it corresponds to:\n",
      "[ __ __ __ __ __ __ __ __ __ __ __ __ __ __ __ __ __ __ __ __ __ __ __ __ __ __ __ __ __ __ __ __ __ __ __ __ __ __ __ __ __ __ __ __ __ __ __ __ __ __ __ __ __ __ __ the covid19 is same as sars ]\n"
     ]
    }
   ],
   "source": [
    "reverse_word_map = dict(map(reversed, tokenizer.word_index.items()))\n",
    "print(\"The entry \",sample,\" in 'input_sequences' is: \")\n",
    "print(input_sequences[sample])\n",
    "print(\" and it corresponds to:\")\n",
    "print(\"[\", end=' ')\n",
    "for i in input_sequences[sample]:\n",
    "    if i in reverse_word_map:\n",
    "        print(reverse_word_map[i], end=' ')\n",
    "    else:\n",
    "        print(\"__\", end=' ')\n",
    "print(\"]\")\n",
    "                "
   ]
  },
  {
   "cell_type": "markdown",
   "metadata": {},
   "source": [
    "Given a sentence like **\"the covid19 is same as \"**, we want to design a model that can predict the next word -- in the case the word **\"sars\"**.\n",
    "\n",
    "Therefore, the next code prepares our input and output to our model consequently."
   ]
  },
  {
   "cell_type": "code",
   "execution_count": 11,
   "metadata": {},
   "outputs": [],
   "source": [
    "# the last out token of each input sequence is the target output, y-label\n",
    "# separates the last token with the input sequence\n",
    "# input_sequences[:,:-1] --> returns all rows. return all columns except the last column\n",
    "# input_sequences[:,-1] --> returns all rows, return only the last column\n",
    "input_to_model, label = input_sequences[:,:-1],input_sequences[:,-1]\n",
    "\n"
   ]
  },
  {
   "cell_type": "code",
   "execution_count": 12,
   "metadata": {},
   "outputs": [
    {
     "name": "stdout",
     "output_type": "stream",
     "text": [
      "The entry  20  in 'input_sequences' is: \n",
      "[  0   0   0   0   0   0   0   0   0   0   0   0   0   0   0   0   0   0\n",
      "   0   0   0   0   0   0   0   0   0   0   0   0   0   0   0   0   0   0\n",
      "   0   0   0   0   0   0   0   0   0   0   0   0   0   0   0   0   0   0\n",
      "   0   2   3  12 187  34 188]\n",
      ", it corresponds to the following input to our model:\n",
      "[  0   0   0   0   0   0   0   0   0   0   0   0   0   0   0   0   0   0\n",
      "   0   0   0   0   0   0   0   0   0   0   0   0   0   0   0   0   0   0\n",
      "   0   0   0   0   0   0   0   0   0   0   0   0   0   0   0   0   0   0\n",
      "   0   2   3  12 187  34]\n",
      " and the following output:  188\n"
     ]
    }
   ],
   "source": [
    "print(\"The entry \",sample,\" in 'input_sequences' is: \")\n",
    "print(input_sequences[sample])\n",
    "print(\", it corresponds to the following input to our model:\")\n",
    "print(input_to_model[sample])\n",
    "print(\" and the following output: \", label[sample])\n"
   ]
  },
  {
   "cell_type": "markdown",
   "metadata": {},
   "source": [
    "Finally, we convert our label to categorical labels for being processed by our model."
   ]
  },
  {
   "cell_type": "code",
   "execution_count": 13,
   "metadata": {},
   "outputs": [],
   "source": [
    "label = ku.to_categorical(label, num_classes=total_words)\n"
   ]
  },
  {
   "cell_type": "markdown",
   "metadata": {},
   "source": [
    "Here is the architecture of the model we will use:\n",
    "\n",
    "![](imgs/text_generation.png)\n",
    "\n"
   ]
  },
  {
   "cell_type": "markdown",
   "metadata": {},
   "source": [
    " \n",
    "**Task 1**: Implement `deep_fake_comment_model()`. You will need to carry out 5 steps:\n",
    "\n",
    "1. Create a sequencial model using the `Sequential` class\n",
    "2. Add an embedding layer to the model using the `Embedding` class of size 128\n",
    "3. Add an LSTM layer to the model using the `LSTM` class of size 128\n",
    "4. Add a Dense layer to the model using the `Dense` class with a `softmax` activation\n",
    "5. Set a `categorical_crossentropy` loss function to the model and optimize `accuracy`.\n"
   ]
  },
  {
   "cell_type": "code",
   "execution_count": 14,
   "metadata": {},
   "outputs": [
    {
     "name": "stdout",
     "output_type": "stream",
     "text": [
      "Model: \"sequential\"\n",
      "_________________________________________________________________\n",
      "Layer (type)                 Output Shape              Param #   \n",
      "=================================================================\n",
      "embedding (Embedding)        (None, None, 128)         160896    \n",
      "_________________________________________________________________\n",
      "lstm (LSTM)                  (None, 128)               131584    \n",
      "_________________________________________________________________\n",
      "dense (Dense)                (None, 1257)              162153    \n",
      "=================================================================\n",
      "Total params: 454,633\n",
      "Trainable params: 454,633\n",
      "Non-trainable params: 0\n",
      "_________________________________________________________________\n"
     ]
    }
   ],
   "source": [
    "#TASK 1\n",
    "# deep_fake_comment_model\n",
    "\n",
    "def deep_fake_comment_model():\n",
    "    ### START CODE HERE ### \n",
    "    \n",
    "    LSTM_model = Sequential()\n",
    "    # embedding\n",
    "    LSTM_model.add(Embedding(total_words, 128))\n",
    "    LSTM_model.add(LSTM(units=128))\n",
    "    LSTM_model.add(Dense(total_words, activation='softmax'))\n",
    "    LSTM_model.compile(loss='categorical_crossentropy', optimizer='adam', metrics=['accuracy'])\n",
    "\n",
    "    return LSTM_model\n",
    "\n",
    "    ### END CODE HERE ### \n",
    "\n",
    "#Print details of the model.\n",
    "model = deep_fake_comment_model()\n",
    "model.summary()\n",
    "\n"
   ]
  },
  {
   "cell_type": "markdown",
   "metadata": {},
   "source": [
    "Now, let's start our training."
   ]
  },
  {
   "cell_type": "code",
   "execution_count": 15,
   "metadata": {
    "scrolled": false
   },
   "outputs": [
    {
     "name": "stdout",
     "output_type": "stream",
     "text": [
      "Train on 4030 samples\n",
      "Epoch 1/200\n",
      "4030/4030 [==============================] - 5s 1ms/sample - loss: 6.3806 - accuracy: 0.0707\n",
      "Epoch 2/200\n",
      "4030/4030 [==============================] - 4s 946us/sample - loss: 5.8782 - accuracy: 0.0749\n",
      "Epoch 3/200\n",
      "4030/4030 [==============================] - 4s 985us/sample - loss: 5.7275 - accuracy: 0.0940\n",
      "Epoch 4/200\n",
      "4030/4030 [==============================] - 4s 966us/sample - loss: 5.5870 - accuracy: 0.1156\n",
      "Epoch 5/200\n",
      "4030/4030 [==============================] - 4s 936us/sample - loss: 5.4303 - accuracy: 0.1258\n",
      "Epoch 6/200\n",
      "4030/4030 [==============================] - 4s 935us/sample - loss: 5.2509 - accuracy: 0.1404\n",
      "Epoch 7/200\n",
      "4030/4030 [==============================] - 4s 945us/sample - loss: 5.0655 - accuracy: 0.1613\n",
      "Epoch 8/200\n",
      "4030/4030 [==============================] - 4s 936us/sample - loss: 4.8819 - accuracy: 0.1695\n",
      "Epoch 9/200\n",
      "4030/4030 [==============================] - 4s 933us/sample - loss: 4.7114 - accuracy: 0.1826\n",
      "Epoch 10/200\n",
      "4030/4030 [==============================] - 4s 940us/sample - loss: 4.5382 - accuracy: 0.2010\n",
      "Epoch 11/200\n",
      "4030/4030 [==============================] - 4s 940us/sample - loss: 4.3745 - accuracy: 0.2129\n",
      "Epoch 12/200\n",
      "4030/4030 [==============================] - 4s 938us/sample - loss: 4.2105 - accuracy: 0.2226\n",
      "Epoch 13/200\n",
      "4030/4030 [==============================] - 4s 940us/sample - loss: 4.0542 - accuracy: 0.2409\n",
      "Epoch 14/200\n",
      "4030/4030 [==============================] - 4s 953us/sample - loss: 3.8933 - accuracy: 0.2529\n",
      "Epoch 15/200\n",
      "4030/4030 [==============================] - 4s 956us/sample - loss: 3.7305 - accuracy: 0.2757\n",
      "Epoch 16/200\n",
      "4030/4030 [==============================] - 4s 963us/sample - loss: 3.5707 - accuracy: 0.2928\n",
      "Epoch 17/200\n",
      "4030/4030 [==============================] - 4s 967us/sample - loss: 3.4172 - accuracy: 0.3082\n",
      "Epoch 18/200\n",
      "4030/4030 [==============================] - 4s 972us/sample - loss: 3.2625 - accuracy: 0.3347\n",
      "Epoch 19/200\n",
      "4030/4030 [==============================] - 4s 975us/sample - loss: 3.1134 - accuracy: 0.3538\n",
      "Epoch 20/200\n",
      "4030/4030 [==============================] - 4s 974us/sample - loss: 2.9650 - accuracy: 0.3725\n",
      "Epoch 21/200\n",
      "4030/4030 [==============================] - 4s 974us/sample - loss: 2.8201 - accuracy: 0.4037\n",
      "Epoch 22/200\n",
      "4030/4030 [==============================] - 4s 975us/sample - loss: 2.6782 - accuracy: 0.4335\n",
      "Epoch 23/200\n",
      "4030/4030 [==============================] - 4s 977us/sample - loss: 2.5395 - accuracy: 0.4591\n",
      "Epoch 24/200\n",
      "4030/4030 [==============================] - 4s 982us/sample - loss: 2.4055 - accuracy: 0.4886\n",
      "Epoch 25/200\n",
      "4030/4030 [==============================] - 4s 990us/sample - loss: 2.2743 - accuracy: 0.5278\n",
      "Epoch 26/200\n",
      "4030/4030 [==============================] - 4s 994us/sample - loss: 2.1550 - accuracy: 0.5529\n",
      "Epoch 27/200\n",
      "4030/4030 [==============================] - 4s 978us/sample - loss: 2.0268 - accuracy: 0.5866\n",
      "Epoch 28/200\n",
      "4030/4030 [==============================] - 4s 975us/sample - loss: 1.9130 - accuracy: 0.6174\n",
      "Epoch 29/200\n",
      "4030/4030 [==============================] - 4s 982us/sample - loss: 1.8001 - accuracy: 0.6439\n",
      "Epoch 30/200\n",
      "4030/4030 [==============================] - 4s 986us/sample - loss: 1.6938 - accuracy: 0.6764\n",
      "Epoch 31/200\n",
      "4030/4030 [==============================] - 4s 984us/sample - loss: 1.5955 - accuracy: 0.6960\n",
      "Epoch 32/200\n",
      "4030/4030 [==============================] - 4s 984us/sample - loss: 1.4966 - accuracy: 0.7104\n",
      "Epoch 33/200\n",
      "4030/4030 [==============================] - 4s 982us/sample - loss: 1.4080 - accuracy: 0.7367\n",
      "Epoch 34/200\n",
      "4030/4030 [==============================] - 4s 983us/sample - loss: 1.3278 - accuracy: 0.7538\n",
      "Epoch 35/200\n",
      "4030/4030 [==============================] - 4s 981us/sample - loss: 1.2495 - accuracy: 0.7730\n",
      "Epoch 36/200\n",
      "4030/4030 [==============================] - 4s 979us/sample - loss: 1.1772 - accuracy: 0.7878\n",
      "Epoch 37/200\n",
      "4030/4030 [==============================] - 4s 979us/sample - loss: 1.1073 - accuracy: 0.8005\n",
      "Epoch 38/200\n",
      "4030/4030 [==============================] - 4s 1ms/sample - loss: 1.0433 - accuracy: 0.8139\n",
      "Epoch 39/200\n",
      "4030/4030 [==============================] - 4s 984us/sample - loss: 0.9822 - accuracy: 0.8280\n",
      "Epoch 40/200\n",
      "4030/4030 [==============================] - 4s 1ms/sample - loss: 0.9270 - accuracy: 0.8397\n",
      "Epoch 41/200\n",
      "4030/4030 [==============================] - 4s 973us/sample - loss: 0.8755 - accuracy: 0.8501\n",
      "Epoch 42/200\n",
      "4030/4030 [==============================] - 4s 975us/sample - loss: 0.8262 - accuracy: 0.8618\n",
      "Epoch 43/200\n",
      "4030/4030 [==============================] - 4s 977us/sample - loss: 0.7833 - accuracy: 0.8658\n",
      "Epoch 44/200\n",
      "4030/4030 [==============================] - 4s 1ms/sample - loss: 0.7404 - accuracy: 0.8757\n",
      "Epoch 45/200\n",
      "4030/4030 [==============================] - 4s 981us/sample - loss: 0.6999 - accuracy: 0.8819\n",
      "Epoch 46/200\n",
      "4030/4030 [==============================] - 4s 976us/sample - loss: 0.6636 - accuracy: 0.8883\n",
      "Epoch 47/200\n",
      "4030/4030 [==============================] - 4s 1ms/sample - loss: 0.6279 - accuracy: 0.8958\n",
      "Epoch 48/200\n",
      "4030/4030 [==============================] - 4s 1ms/sample - loss: 0.5960 - accuracy: 0.8995\n",
      "Epoch 49/200\n",
      "4030/4030 [==============================] - 4s 958us/sample - loss: 0.5645 - accuracy: 0.9055\n",
      "Epoch 50/200\n",
      "4030/4030 [==============================] - 4s 992us/sample - loss: 0.5395 - accuracy: 0.9114\n",
      "Epoch 51/200\n",
      "4030/4030 [==============================] - 4s 972us/sample - loss: 0.5094 - accuracy: 0.9114\n",
      "Epoch 52/200\n",
      "4030/4030 [==============================] - 4s 976us/sample - loss: 0.4864 - accuracy: 0.9154\n",
      "Epoch 53/200\n",
      "4030/4030 [==============================] - 4s 952us/sample - loss: 0.4631 - accuracy: 0.9174\n",
      "Epoch 54/200\n",
      "4030/4030 [==============================] - 4s 946us/sample - loss: 0.4413 - accuracy: 0.9213\n",
      "Epoch 55/200\n",
      "4030/4030 [==============================] - 4s 948us/sample - loss: 0.4199 - accuracy: 0.9246\n",
      "Epoch 56/200\n",
      "4030/4030 [==============================] - 4s 997us/sample - loss: 0.4012 - accuracy: 0.9266\n",
      "Epoch 57/200\n",
      "4030/4030 [==============================] - 4s 963us/sample - loss: 0.3826 - accuracy: 0.9295\n",
      "Epoch 58/200\n",
      "4030/4030 [==============================] - 4s 944us/sample - loss: 0.3677 - accuracy: 0.9323\n",
      "Epoch 59/200\n",
      "4030/4030 [==============================] - 4s 955us/sample - loss: 0.3511 - accuracy: 0.9362\n",
      "Epoch 60/200\n",
      "4030/4030 [==============================] - 4s 961us/sample - loss: 0.3376 - accuracy: 0.9362\n",
      "Epoch 61/200\n",
      "4030/4030 [==============================] - 4s 945us/sample - loss: 0.3230 - accuracy: 0.9377\n",
      "Epoch 62/200\n",
      "4030/4030 [==============================] - 4s 965us/sample - loss: 0.3114 - accuracy: 0.9387\n",
      "Epoch 63/200\n",
      "4030/4030 [==============================] - 4s 940us/sample - loss: 0.2983 - accuracy: 0.9429\n",
      "Epoch 64/200\n",
      "4030/4030 [==============================] - 4s 931us/sample - loss: 0.2889 - accuracy: 0.9429\n",
      "Epoch 65/200\n",
      "4030/4030 [==============================] - 4s 936us/sample - loss: 0.2775 - accuracy: 0.9439\n",
      "Epoch 66/200\n",
      "4030/4030 [==============================] - 4s 957us/sample - loss: 0.2685 - accuracy: 0.9447\n",
      "Epoch 67/200\n",
      "4030/4030 [==============================] - 4s 947us/sample - loss: 0.2592 - accuracy: 0.9429\n",
      "Epoch 68/200\n",
      "4030/4030 [==============================] - 4s 961us/sample - loss: 0.2517 - accuracy: 0.9437\n",
      "Epoch 69/200\n",
      "4030/4030 [==============================] - 4s 950us/sample - loss: 0.2426 - accuracy: 0.9459\n",
      "Epoch 70/200\n",
      "4030/4030 [==============================] - 4s 934us/sample - loss: 0.2370 - accuracy: 0.9467\n",
      "Epoch 71/200\n",
      "4030/4030 [==============================] - 4s 930us/sample - loss: 0.2311 - accuracy: 0.9447\n",
      "Epoch 72/200\n",
      "4030/4030 [==============================] - 4s 935us/sample - loss: 0.2226 - accuracy: 0.9464\n",
      "Epoch 73/200\n",
      "4030/4030 [==============================] - 4s 930us/sample - loss: 0.2174 - accuracy: 0.9471\n",
      "Epoch 74/200\n",
      "4030/4030 [==============================] - 4s 939us/sample - loss: 0.2116 - accuracy: 0.9476\n",
      "Epoch 75/200\n",
      "4030/4030 [==============================] - 4s 935us/sample - loss: 0.2075 - accuracy: 0.9481\n",
      "Epoch 76/200\n"
     ]
    },
    {
     "name": "stdout",
     "output_type": "stream",
     "text": [
      "4030/4030 [==============================] - 4s 933us/sample - loss: 0.2022 - accuracy: 0.9491\n",
      "Epoch 77/200\n",
      "4030/4030 [==============================] - 4s 953us/sample - loss: 0.1977 - accuracy: 0.9491\n",
      "Epoch 78/200\n",
      "4030/4030 [==============================] - 4s 953us/sample - loss: 0.1952 - accuracy: 0.9481\n",
      "Epoch 79/200\n",
      "4030/4030 [==============================] - 4s 953us/sample - loss: 0.1902 - accuracy: 0.9481\n",
      "Epoch 80/200\n",
      "4030/4030 [==============================] - 4s 952us/sample - loss: 0.1863 - accuracy: 0.9496\n",
      "Epoch 81/200\n",
      "4030/4030 [==============================] - 4s 955us/sample - loss: 0.1835 - accuracy: 0.9481\n",
      "Epoch 82/200\n",
      "4030/4030 [==============================] - 4s 951us/sample - loss: 0.1795 - accuracy: 0.9491\n",
      "Epoch 83/200\n",
      "4030/4030 [==============================] - 4s 956us/sample - loss: 0.1778 - accuracy: 0.9491\n",
      "Epoch 84/200\n",
      "4030/4030 [==============================] - 4s 954us/sample - loss: 0.1750 - accuracy: 0.9494\n",
      "Epoch 85/200\n",
      "4030/4030 [==============================] - 4s 954us/sample - loss: 0.1718 - accuracy: 0.9484\n",
      "Epoch 86/200\n",
      "4030/4030 [==============================] - 4s 960us/sample - loss: 0.1706 - accuracy: 0.9479\n",
      "Epoch 87/200\n",
      "4030/4030 [==============================] - 4s 1ms/sample - loss: 0.1684 - accuracy: 0.9489\n",
      "Epoch 88/200\n",
      "4030/4030 [==============================] - 4s 1ms/sample - loss: 0.1652 - accuracy: 0.9484\n",
      "Epoch 89/200\n",
      "4030/4030 [==============================] - 4s 979us/sample - loss: 0.1626 - accuracy: 0.9491\n",
      "Epoch 90/200\n",
      "4030/4030 [==============================] - 4s 983us/sample - loss: 0.1619 - accuracy: 0.9484\n",
      "Epoch 91/200\n",
      "4030/4030 [==============================] - 4s 978us/sample - loss: 0.1615 - accuracy: 0.9494\n",
      "Epoch 92/200\n",
      "4030/4030 [==============================] - 4s 958us/sample - loss: 0.1570 - accuracy: 0.9479\n",
      "Epoch 93/200\n",
      "4030/4030 [==============================] - 4s 961us/sample - loss: 0.1552 - accuracy: 0.9509\n",
      "Epoch 94/200\n",
      "4030/4030 [==============================] - 4s 959us/sample - loss: 0.1556 - accuracy: 0.9496\n",
      "Epoch 95/200\n",
      "4030/4030 [==============================] - 4s 958us/sample - loss: 0.1527 - accuracy: 0.9509\n",
      "Epoch 96/200\n",
      "4030/4030 [==============================] - 4s 960us/sample - loss: 0.1525 - accuracy: 0.9484\n",
      "Epoch 97/200\n",
      "4030/4030 [==============================] - 4s 963us/sample - loss: 0.1507 - accuracy: 0.9494\n",
      "Epoch 98/200\n",
      "4030/4030 [==============================] - 4s 960us/sample - loss: 0.1502 - accuracy: 0.9479\n",
      "Epoch 99/200\n",
      "4030/4030 [==============================] - 4s 961us/sample - loss: 0.1485 - accuracy: 0.9489\n",
      "Epoch 100/200\n",
      "4030/4030 [==============================] - 4s 967us/sample - loss: 0.1476 - accuracy: 0.9506\n",
      "Epoch 101/200\n",
      "4030/4030 [==============================] - 4s 960us/sample - loss: 0.1470 - accuracy: 0.9496\n",
      "Epoch 102/200\n",
      "4030/4030 [==============================] - 4s 963us/sample - loss: 0.1457 - accuracy: 0.9501\n",
      "Epoch 103/200\n",
      "4030/4030 [==============================] - 4s 966us/sample - loss: 0.1452 - accuracy: 0.9486\n",
      "Epoch 104/200\n",
      "4030/4030 [==============================] - 4s 966us/sample - loss: 0.1437 - accuracy: 0.9481\n",
      "Epoch 105/200\n",
      "4030/4030 [==============================] - 4s 968us/sample - loss: 0.1456 - accuracy: 0.9481\n",
      "Epoch 106/200\n",
      "4030/4030 [==============================] - 4s 967us/sample - loss: 0.1462 - accuracy: 0.9496\n",
      "Epoch 107/200\n",
      "4030/4030 [==============================] - 4s 992us/sample - loss: 0.1474 - accuracy: 0.9474\n",
      "Epoch 108/200\n",
      "4030/4030 [==============================] - 4s 994us/sample - loss: 0.1565 - accuracy: 0.9462\n",
      "Epoch 109/200\n",
      "4030/4030 [==============================] - 4s 991us/sample - loss: 0.1483 - accuracy: 0.9469\n",
      "Epoch 110/200\n",
      "4030/4030 [==============================] - 4s 994us/sample - loss: 0.1410 - accuracy: 0.9506\n",
      "Epoch 111/200\n",
      "4030/4030 [==============================] - 4s 1ms/sample - loss: 0.1415 - accuracy: 0.9484\n",
      "Epoch 112/200\n",
      "4030/4030 [==============================] - 4s 961us/sample - loss: 0.1385 - accuracy: 0.9509\n",
      "Epoch 113/200\n",
      "4030/4030 [==============================] - 4s 952us/sample - loss: 0.1379 - accuracy: 0.9481\n",
      "Epoch 114/200\n",
      "4030/4030 [==============================] - 4s 955us/sample - loss: 0.1372 - accuracy: 0.9491\n",
      "Epoch 115/200\n",
      "4030/4030 [==============================] - 4s 1ms/sample - loss: 0.1369 - accuracy: 0.9496\n",
      "Epoch 116/200\n",
      "4030/4030 [==============================] - 4s 975us/sample - loss: 0.1363 - accuracy: 0.9504\n",
      "Epoch 117/200\n",
      "4030/4030 [==============================] - 4s 949us/sample - loss: 0.1359 - accuracy: 0.9494\n",
      "Epoch 118/200\n",
      "4030/4030 [==============================] - 4s 954us/sample - loss: 0.1353 - accuracy: 0.9481\n",
      "Epoch 119/200\n",
      "4030/4030 [==============================] - 4s 978us/sample - loss: 0.1354 - accuracy: 0.9484\n",
      "Epoch 120/200\n",
      "4030/4030 [==============================] - 4s 979us/sample - loss: 0.1349 - accuracy: 0.9504\n",
      "Epoch 121/200\n",
      "4030/4030 [==============================] - 4s 979us/sample - loss: 0.1346 - accuracy: 0.9499\n",
      "Epoch 122/200\n",
      "4030/4030 [==============================] - 4s 979us/sample - loss: 0.1344 - accuracy: 0.9494\n",
      "Epoch 123/200\n",
      "4030/4030 [==============================] - 4s 977us/sample - loss: 0.1334 - accuracy: 0.9501\n",
      "Epoch 124/200\n",
      "4030/4030 [==============================] - 4s 1000us/sample - loss: 0.1335 - accuracy: 0.9516\n",
      "Epoch 125/200\n",
      "4030/4030 [==============================] - 4s 958us/sample - loss: 0.1341 - accuracy: 0.9474\n",
      "Epoch 126/200\n",
      "4030/4030 [==============================] - 4s 958us/sample - loss: 0.1330 - accuracy: 0.9491\n",
      "Epoch 127/200\n",
      "4030/4030 [==============================] - 4s 956us/sample - loss: 0.1324 - accuracy: 0.9496\n",
      "Epoch 128/200\n",
      "4030/4030 [==============================] - 4s 962us/sample - loss: 0.1324 - accuracy: 0.9496\n",
      "Epoch 129/200\n",
      "4030/4030 [==============================] - 4s 982us/sample - loss: 0.1323 - accuracy: 0.9494\n",
      "Epoch 130/200\n",
      "4030/4030 [==============================] - 4s 981us/sample - loss: 0.1319 - accuracy: 0.9479\n",
      "Epoch 131/200\n",
      "4030/4030 [==============================] - 4s 982us/sample - loss: 0.1318 - accuracy: 0.9496\n",
      "Epoch 132/200\n",
      "4030/4030 [==============================] - 4s 982us/sample - loss: 0.1315 - accuracy: 0.9496\n",
      "Epoch 133/200\n",
      "4030/4030 [==============================] - 4s 979us/sample - loss: 0.1317 - accuracy: 0.9489\n",
      "Epoch 134/200\n",
      "4030/4030 [==============================] - 4s 967us/sample - loss: 0.1310 - accuracy: 0.9496\n",
      "Epoch 135/200\n",
      "4030/4030 [==============================] - 4s 955us/sample - loss: 0.1307 - accuracy: 0.9499\n",
      "Epoch 136/200\n",
      "4030/4030 [==============================] - 4s 957us/sample - loss: 0.1309 - accuracy: 0.9489\n",
      "Epoch 137/200\n",
      "4030/4030 [==============================] - 4s 960us/sample - loss: 0.1302 - accuracy: 0.9501\n",
      "Epoch 138/200\n",
      "4030/4030 [==============================] - 4s 955us/sample - loss: 0.1311 - accuracy: 0.9481\n",
      "Epoch 139/200\n",
      "4030/4030 [==============================] - 4s 994us/sample - loss: 0.1321 - accuracy: 0.9504\n",
      "Epoch 140/200\n",
      "4030/4030 [==============================] - 4s 980us/sample - loss: 0.1612 - accuracy: 0.9424\n",
      "Epoch 141/200\n",
      "4030/4030 [==============================] - 4s 980us/sample - loss: 0.1523 - accuracy: 0.9449\n",
      "Epoch 142/200\n",
      "4030/4030 [==============================] - 4s 982us/sample - loss: 0.1323 - accuracy: 0.9494\n",
      "Epoch 143/200\n",
      "4030/4030 [==============================] - 4s 979us/sample - loss: 0.1315 - accuracy: 0.9496\n",
      "Epoch 144/200\n",
      "4030/4030 [==============================] - 4s 980us/sample - loss: 0.1302 - accuracy: 0.9501\n",
      "Epoch 145/200\n",
      "4030/4030 [==============================] - 4s 988us/sample - loss: 0.1301 - accuracy: 0.9486\n",
      "Epoch 146/200\n",
      "4030/4030 [==============================] - 4s 982us/sample - loss: 0.1292 - accuracy: 0.9494\n",
      "Epoch 147/200\n",
      "4030/4030 [==============================] - 4s 961us/sample - loss: 0.1293 - accuracy: 0.9494\n",
      "Epoch 148/200\n",
      "4030/4030 [==============================] - 4s 962us/sample - loss: 0.1289 - accuracy: 0.9506\n",
      "Epoch 149/200\n",
      "4030/4030 [==============================] - 4s 962us/sample - loss: 0.1280 - accuracy: 0.9499\n",
      "Epoch 150/200\n",
      "4030/4030 [==============================] - 4s 1ms/sample - loss: 0.1288 - accuracy: 0.9499\n",
      "Epoch 151/200\n"
     ]
    },
    {
     "name": "stdout",
     "output_type": "stream",
     "text": [
      "4030/4030 [==============================] - 4s 1ms/sample - loss: 0.1286 - accuracy: 0.9506\n",
      "Epoch 152/200\n",
      "4030/4030 [==============================] - 4s 1ms/sample - loss: 0.1291 - accuracy: 0.9484\n",
      "Epoch 153/200\n",
      "4030/4030 [==============================] - 4s 1ms/sample - loss: 0.1284 - accuracy: 0.9506\n",
      "Epoch 154/200\n",
      "4030/4030 [==============================] - 4s 1ms/sample - loss: 0.1282 - accuracy: 0.9491\n",
      "Epoch 155/200\n",
      "4030/4030 [==============================] - 4s 988us/sample - loss: 0.1285 - accuracy: 0.9509\n",
      "Epoch 156/200\n",
      "4030/4030 [==============================] - 4s 981us/sample - loss: 0.1280 - accuracy: 0.9501\n",
      "Epoch 157/200\n",
      "4030/4030 [==============================] - 4s 957us/sample - loss: 0.1279 - accuracy: 0.9496\n",
      "Epoch 158/200\n",
      "4030/4030 [==============================] - 4s 957us/sample - loss: 0.1281 - accuracy: 0.9491\n",
      "Epoch 159/200\n",
      "4030/4030 [==============================] - 4s 962us/sample - loss: 0.1277 - accuracy: 0.9491\n",
      "Epoch 160/200\n",
      "4030/4030 [==============================] - 4s 1ms/sample - loss: 0.1282 - accuracy: 0.9491\n",
      "Epoch 161/200\n",
      "4030/4030 [==============================] - 4s 1ms/sample - loss: 0.1278 - accuracy: 0.9491\n",
      "Epoch 162/200\n",
      "4030/4030 [==============================] - 4s 1ms/sample - loss: 0.1271 - accuracy: 0.9496\n",
      "Epoch 163/200\n",
      "4030/4030 [==============================] - 4s 1ms/sample - loss: 0.1274 - accuracy: 0.9494\n",
      "Epoch 164/200\n",
      "4030/4030 [==============================] - 4s 1ms/sample - loss: 0.1265 - accuracy: 0.9509\n",
      "Epoch 165/200\n",
      "4030/4030 [==============================] - 4s 1ms/sample - loss: 0.1271 - accuracy: 0.9484\n",
      "Epoch 166/200\n",
      "4030/4030 [==============================] - 4s 1ms/sample - loss: 0.1279 - accuracy: 0.9501\n",
      "Epoch 167/200\n",
      "4030/4030 [==============================] - 4s 1ms/sample - loss: 0.1274 - accuracy: 0.9496\n",
      "Epoch 168/200\n",
      "4030/4030 [==============================] - 4s 1ms/sample - loss: 0.1268 - accuracy: 0.9514\n",
      "Epoch 169/200\n",
      "4030/4030 [==============================] - 4s 1ms/sample - loss: 0.1271 - accuracy: 0.9506\n",
      "Epoch 170/200\n",
      "4030/4030 [==============================] - 4s 973us/sample - loss: 0.1267 - accuracy: 0.9491\n",
      "Epoch 171/200\n",
      "4030/4030 [==============================] - 4s 1ms/sample - loss: 0.1272 - accuracy: 0.9494\n",
      "Epoch 172/200\n",
      "4030/4030 [==============================] - 4s 1ms/sample - loss: 0.1263 - accuracy: 0.9484\n",
      "Epoch 173/200\n",
      "4030/4030 [==============================] - 4s 970us/sample - loss: 0.1266 - accuracy: 0.9494\n",
      "Epoch 174/200\n",
      "4030/4030 [==============================] - 4s 1ms/sample - loss: 0.1262 - accuracy: 0.9504\n",
      "Epoch 175/200\n",
      "4030/4030 [==============================] - 4s 981us/sample - loss: 0.1265 - accuracy: 0.9499\n",
      "Epoch 176/200\n",
      "4030/4030 [==============================] - 4s 970us/sample - loss: 0.1266 - accuracy: 0.9511\n",
      "Epoch 177/200\n",
      "4030/4030 [==============================] - 4s 972us/sample - loss: 0.1272 - accuracy: 0.9486\n",
      "Epoch 178/200\n",
      "4030/4030 [==============================] - 4s 969us/sample - loss: 0.1280 - accuracy: 0.9494\n",
      "Epoch 179/200\n",
      "4030/4030 [==============================] - 4s 969us/sample - loss: 0.1309 - accuracy: 0.9509\n",
      "Epoch 180/200\n",
      "4030/4030 [==============================] - 4s 969us/sample - loss: 0.1553 - accuracy: 0.9432\n",
      "Epoch 181/200\n",
      "4030/4030 [==============================] - 4s 960us/sample - loss: 0.1428 - accuracy: 0.9474\n",
      "Epoch 182/200\n",
      "4030/4030 [==============================] - 4s 943us/sample - loss: 0.1352 - accuracy: 0.9491\n",
      "Epoch 183/200\n",
      "4030/4030 [==============================] - 4s 987us/sample - loss: 0.1282 - accuracy: 0.9504\n",
      "Epoch 184/200\n",
      "4030/4030 [==============================] - 4s 963us/sample - loss: 0.1268 - accuracy: 0.9486\n",
      "Epoch 185/200\n",
      "4030/4030 [==============================] - 4s 970us/sample - loss: 0.1262 - accuracy: 0.9491\n",
      "Epoch 186/200\n",
      "4030/4030 [==============================] - 4s 968us/sample - loss: 0.1261 - accuracy: 0.9489\n",
      "Epoch 187/200\n",
      "4030/4030 [==============================] - 4s 987us/sample - loss: 0.1261 - accuracy: 0.9491\n",
      "Epoch 188/200\n",
      "4030/4030 [==============================] - 4s 1ms/sample - loss: 0.1256 - accuracy: 0.9484\n",
      "Epoch 189/200\n",
      "4030/4030 [==============================] - 4s 1ms/sample - loss: 0.1262 - accuracy: 0.9489\n",
      "Epoch 190/200\n",
      "4030/4030 [==============================] - 4s 1ms/sample - loss: 0.1253 - accuracy: 0.9509\n",
      "Epoch 191/200\n",
      "4030/4030 [==============================] - 4s 986us/sample - loss: 0.1251 - accuracy: 0.9521\n",
      "Epoch 192/200\n",
      "4030/4030 [==============================] - 4s 977us/sample - loss: 0.1253 - accuracy: 0.9514\n",
      "Epoch 193/200\n",
      "4030/4030 [==============================] - 4s 979us/sample - loss: 0.1256 - accuracy: 0.9496\n",
      "Epoch 194/200\n",
      "4030/4030 [==============================] - 4s 985us/sample - loss: 0.1260 - accuracy: 0.9506\n",
      "Epoch 195/200\n",
      "4030/4030 [==============================] - 4s 988us/sample - loss: 0.1254 - accuracy: 0.9514\n",
      "Epoch 196/200\n",
      "4030/4030 [==============================] - 4s 986us/sample - loss: 0.1255 - accuracy: 0.9499\n",
      "Epoch 197/200\n",
      "4030/4030 [==============================] - 4s 990us/sample - loss: 0.1255 - accuracy: 0.9506\n",
      "Epoch 198/200\n",
      "4030/4030 [==============================] - 4s 989us/sample - loss: 0.1258 - accuracy: 0.9496\n",
      "Epoch 199/200\n",
      "4030/4030 [==============================] - 4s 982us/sample - loss: 0.1254 - accuracy: 0.9494\n",
      "Epoch 200/200\n",
      "4030/4030 [==============================] - 4s 988us/sample - loss: 0.1255 - accuracy: 0.9506\n"
     ]
    }
   ],
   "source": [
    "history = model.fit(input_to_model, label, epochs=200, batch_size=32, verbose=1)"
   ]
  },
  {
   "cell_type": "markdown",
   "metadata": {},
   "source": [
    "Let's plot details of our training."
   ]
  },
  {
   "cell_type": "code",
   "execution_count": 16,
   "metadata": {},
   "outputs": [
    {
     "data": {
      "image/png": "[encoded data removed]",
      "text/plain": [
       "<Figure size 432x288 with 1 Axes>"
      ]
     },
     "metadata": {
      "needs_background": "light"
     },
     "output_type": "display_data"
    },
    {
     "data": {
      "image/png": "[encoded data removed]",
      "text/plain": [
       "<Figure size 432x288 with 1 Axes>"
      ]
     },
     "metadata": {
      "needs_background": "light"
     },
     "output_type": "display_data"
    }
   ],
   "source": [
    "acc = history.history['accuracy']\n",
    "loss = history.history['loss']\n",
    "epochs = range(len(acc))\n",
    "plt.plot(epochs, acc, 'b', label='Training accuracy')\n",
    "plt.title('Training accuracy')\n",
    "plt.figure()\n",
    "plt.plot(epochs, loss, 'b', label='Training Loss')\n",
    "plt.title('Training loss')\n",
    "plt.legend()\n",
    "plt.show()"
   ]
  },
  {
   "cell_type": "markdown",
   "metadata": {},
   "source": [
    "# Generating fake comments\n",
    "\n",
    "To generate fake tweets, we use the below architecture:\n",
    "\n",
    "![](imgs/text_gen.png)\n",
    "\n",
    "The idea is to give one or more starting token(s) to our model, and generate the next tokens until we generate `.`.\n",
    "\n",
    "At each step, we select the token with the highest probability as our next token and generate the next one similartly using `model.predict_classes()`. \n",
    "\n",
    "**Note:** The model takes as input the activation `a` from the previous state of the LSTM and the token chosen, forward propagate by one step, and get a new output activation `a`. The new activation `a` can then be used to generate the output, using the `dense` layer with `softmax` activation as before. \n",
    "\n"
   ]
  },
  {
   "cell_type": "markdown",
   "metadata": {},
   "source": [
    "**Task 2**: Implement `generate()`. \n",
    "\n",
    "***"
   ]
  },
  {
   "cell_type": "code",
   "execution_count": 246,
   "metadata": {},
   "outputs": [],
   "source": [
    "#TASK 2\n",
    "# Implement the generate() function\n",
    "\n",
    "def generate(seed_text):\n",
    "    ### START CODE HERE ### \n",
    "    \n",
    "    # maximum length of the entire sentence in the text document\n",
    "    for i in range(max_sequence_len):\n",
    "        \n",
    "        # gets the seed_text and encode it with integer, the seed_text is the entire token list\n",
    "        token_list = tokenizer.texts_to_sequences([seed_text])[0]\n",
    "\n",
    "        # do padding on the entire token list\n",
    "        token_list = np.array(pad_sequences([token_list], maxlen=max_sequence_len, padding='pre'))\n",
    "\n",
    "        # predict the next word based on the padded token list\n",
    "        predicted = model.predict_classes(token_list, verbose=0)\n",
    "\n",
    "        output_word = ''\n",
    "        \n",
    "        # the predicted number is the index of the reverse map dictionary\n",
    "        # based on the proedicted number, get the word\n",
    "        for index,word in reverse_word_map.items():\n",
    "            if predicted == index:\n",
    "                output_word = word\n",
    "    \n",
    "        seed_text = seed_text + \" \" + output_word\n",
    "        \n",
    "        # break out of loop if the final token predicted is \".\"\n",
    "        if '.' in seed_text:\n",
    "            break\n",
    " \n",
    "\n",
    "    return seed_text\n",
    "    ### END CODE HERE ### \n"
   ]
  },
  {
   "cell_type": "markdown",
   "metadata": {},
   "source": [
    "**Let's test it:**"
   ]
  },
  {
   "cell_type": "code",
   "execution_count": 247,
   "metadata": {},
   "outputs": [
    {
     "name": "stdout",
     "output_type": "stream",
     "text": [
      "COVID19 virus cannot be transmitted in areas with hot and humid climates .\n",
      "COVID19 is the deadliest virus known to humans .\n",
      "The usa is a canine coronavirus vaccine casts doubt on statements that there isn't one for humans .\n",
      "The new virus was deliberately created or released by people of we've had covid19 .\n",
      "China has caused a surge in new coronavirus cases in the news .\n"
     ]
    }
   ],
   "source": [
    "print(generate(\"COVID19 virus\"))\n",
    "print(generate(\"COVID19 is the\"))\n",
    "print(generate(\"The usa is\"))\n",
    "print(generate(\"The new virus\"))\n",
    "print(generate(\"China has\"))\n"
   ]
  },
  {
   "cell_type": "markdown",
   "metadata": {},
   "source": [
    "**Let's test it in an interactive mode:**"
   ]
  },
  {
   "cell_type": "code",
   "execution_count": 248,
   "metadata": {},
   "outputs": [
    {
     "name": "stdout",
     "output_type": "stream",
     "text": [
      "Write the beginning of your tweet, the algorithm machine will complete it. Your input is: china\n",
      "china stole covid19 from canada and weaponized it into a bioweapon . "
     ]
    }
   ],
   "source": [
    "usr_input = input(\"Write the beginning of your tweet, the algorithm machine will complete it. Your input is: \")\n",
    "for w in generate(usr_input).split():    \n",
    "    print(w, end =\" \")\n",
    "    time.sleep(0.4)\n"
   ]
  },
  {
   "cell_type": "markdown",
   "metadata": {},
   "source": [
    "# Generating text by sampling\n",
    "\n",
    "The previous part is generating text by choosing the token with the highest probability. Now, we sill generate text by sampling as shown in the architecture below:\n",
    "\n",
    "![](imgs/text_gen_sample.png)\n",
    "\n",
    "\n",
    "**TASK 3:** Implement the `generate_sample()` function. To sample a token from the output at each timestep, you need to use the following two functions:\n",
    "- `model.predict_proba()`: To get probabilities from the output layer.\n",
    "- `np.random.choice()`: To sample from the token list using the probaility array of each token.\n",
    "\n",
    "***"
   ]
  },
  {
   "cell_type": "code",
   "execution_count": 251,
   "metadata": {},
   "outputs": [],
   "source": [
    "#TASK 3\n",
    "# Implement the generate_sample() function\n",
    "def generate_sample(seed_text):\n",
    "   ### START CODE HERE ### \n",
    "    # maximum length of the entire sentence in the text document\n",
    "    for i in range(max_sequence_len):\n",
    "\n",
    "        # gets the seed_text and encode it with integer, the seed_text is the entire token list\n",
    "        token_list = tokenizer.texts_to_sequences([seed_text])[0]\n",
    "        #print(token_list)\n",
    "\n",
    "        # do padding on the entire token list\n",
    "        token_list = np.array(pad_sequences([token_list], maxlen=max_sequence_len, padding='pre'))\n",
    "        #print(token_list)\n",
    "\n",
    "        # predict the next word based on the padded token list\n",
    "        predicted = model.predict_proba(token_list, verbose=0)\n",
    "        #print(predicted)\n",
    "\n",
    "        predicted_1D = predicted.reshape(1257,)\n",
    "        \n",
    "        # randomly pick the token from the list of 1257 tokens\n",
    "        random_token = np.random.choice(predicted_1D)\n",
    "\n",
    "        index_predicted = np.where(predicted_1D == random_token)\n",
    "        \n",
    "        #print(index_predicted[0])\n",
    "        \n",
    "        #\"\"\"\n",
    "        output_word = ''\n",
    "        \n",
    "        # the predicted number is the index of the reverse map dictionary\n",
    "        # based on the proedicted number, get the word\n",
    "        for index,word in reverse_word_map.items():\n",
    "            if index_predicted[0] == index:\n",
    "                output_word = word\n",
    "    \n",
    "        seed_text = seed_text + \" \" + output_word\n",
    "        \n",
    "          \n",
    "        # break out of loop if the final token predicted is \".\"\n",
    "        if '.' in seed_text:\n",
    "            break\n",
    "        #\"\"\"\n",
    "        \n",
    "       \n",
    "    \n",
    "    return seed_text\n",
    "\n",
    "    ### END CODE HERE ### "
   ]
  },
  {
   "cell_type": "markdown",
   "metadata": {},
   "source": [
    "**Let's test it in an interactive mode:**"
   ]
  },
  {
   "cell_type": "code",
   "execution_count": 254,
   "metadata": {},
   "outputs": [
    {
     "name": "stdout",
     "output_type": "stream",
     "text": [
      "Write the beginning of your tweet, the algorithm machine will complete it. Your input is: china is\n",
      "china is 2020census finds brownsville scientists anti shocked starting automatically bottle stop virus objects prove may use insurance huge saw why hands dogs eyes into caused wash 2016 kong donate israel extra mosquitoes pope discomfort gargling disinfection springs decision causes lace anthony life breath humid primary judaism volleyball rejected banner lake dollars at april test 7 line destroying 19 anyone nobody patients chloroquine "
     ]
    }
   ],
   "source": [
    "usr_input = input(\"Write the beginning of your tweet, the algorithm machine will complete it. Your input is: \")\n",
    "for w in generate_sample(usr_input).split():    \n",
    "    print(w, end =\" \")\n",
    "    time.sleep(0.4)\n"
   ]
  },
  {
   "cell_type": "markdown",
   "metadata": {},
   "source": [
    "# Generate your own text \n",
    "\n",
    "Below, use you own data to generate content for a different application:"
   ]
  },
  {
   "cell_type": "code",
   "execution_count": null,
   "metadata": {},
   "outputs": [],
   "source": []
  },
  {
   "cell_type": "markdown",
   "metadata": {},
   "source": [
    "# Congratulations!\n",
    "\n",
    "You've come to the end of this assignment, and have seen how to build a deep learning architecture that generate fake tweets/comments. \n",
    "\n",
    "Congratulations on finishing this notebook! \n",
    "\n"
   ]
  }
 ],
 "metadata": {
  "accelerator": "GPU",
  "colab": {
   "name": "Shakespeare_generatoripynb",
   "provenance": []
  },
  "kernelspec": {
   "display_name": "Python 3",
   "language": "python",
   "name": "python3"
  },
  "language_info": {
   "codemirror_mode": {
    "name": "ipython",
    "version": 3
   },
   "file_extension": ".py",
   "mimetype": "text/x-python",
   "name": "python",
   "nbconvert_exporter": "python",
   "pygments_lexer": "ipython3",
   "version": "3.7.4"
  }
 },
 "nbformat": 4,
 "nbformat_minor": 1
}
