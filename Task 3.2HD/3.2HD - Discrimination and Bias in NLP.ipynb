{
 "cells": [
  {
   "cell_type": "markdown",
   "metadata": {},
   "source": [
    "GitHub: https://github.com/applecrumble123/SIT799_Human_Aligned_Artificial_Intelligence"
   ]
  },
  {
   "cell_type": "markdown",
   "metadata": {},
   "source": [
    "Welcome to your assignment this week! \n",
    "\n",
    "To better understand bias and discrimination in AI, in this assignment, we will look at a Natural Language Processing use case. \n",
    "\n",
    "Natural Language Pocessing (NLP) is a branch of Artificial Intelligence (AI) that helps computers to understand, to interpret and to manipulate natural (i.e. human) language.\n",
    "Imagine NLP-powered machines as black boxes that are capable of understanding and evaluating the context of the input documents (i.e. collection of words), outputting meaningful results that depend on the task the machine is designed for.\n",
    "\n",
    "\n",
    "![](images/1_3zMvUnPzYZF9CSHdj6hT5A.png \"the title\")\n",
    "\n",
    "\n",
    "\n",
    "<caption><center> Documents are fed into magic NLP model capable to get, for instance, the sentiment of the original content</center></caption>\n",
    "\n",
    "\n",
    "\n",
    "Just like any other machine learning algorithm, biased data results in biased outcomes. And just like any other algorithm, results debiasing is painfully annoying, to the point that it might be simpler to unbias the society itself.\n",
    "\n",
    "# The big deal: word embeddings\n",
    "\n",
    "Words must be represented as **numeric vectors** in order to be fed into machine learning algorithms. One of the most powerful (and popular) ways to do it is through **Word Embeddings**. In word embedding models, each word in a given language is assigned to a high-dimensional vector, such that **the geometry of the vectors captures relations between the words**. \n",
    "\n",
    "\n",
    "Because word embeddings are very computionally expensive to train, most ML practitioners will load a pre-trained set of embeddings. \n",
    "\n",
    "**After this assignment you will be able to:**\n",
    "\n",
    "- Load pre-trained word vectors, and measure similarity using cosine similarity\n",
    "- Use word embeddings to solve word analogy problems such as Man is to Woman as King is to ______. \n",
    "- Modify word embeddings to reduce their gender bias \n",
    "\n",
    "Let's get started! Run the following cell to install all the packages you will need."
   ]
  },
  {
   "cell_type": "code",
   "execution_count": 1,
   "metadata": {},
   "outputs": [],
   "source": [
    "#!pip install numpy\n",
    "#!pip install keras\n",
    "#!pip install tensorflow"
   ]
  },
  {
   "cell_type": "markdown",
   "metadata": {},
   "source": [
    "Run the following cell to load the packages you will need."
   ]
  },
  {
   "cell_type": "code",
   "execution_count": 2,
   "metadata": {},
   "outputs": [
    {
     "name": "stderr",
     "output_type": "stream",
     "text": [
      "Using TensorFlow backend.\n"
     ]
    }
   ],
   "source": [
    "import numpy as np\n",
    "from w2v_utils import *"
   ]
  },
  {
   "cell_type": "markdown",
   "metadata": {},
   "source": [
    "Next, lets load the word vectors. For this assignment, we will use 50-dimensional GloVe vectors to represent words. Run the following cell to load the `word_to_vec_map`. "
   ]
  },
  {
   "cell_type": "code",
   "execution_count": 3,
   "metadata": {},
   "outputs": [],
   "source": [
    "words, word_to_vec_map = read_glove_vecs('data/glove.6B.50d.txt')"
   ]
  },
  {
   "cell_type": "markdown",
   "metadata": {},
   "source": [
    "You've loaded:\n",
    "- `words`: set of words in the vocabulary.\n",
    "- `word_to_vec_map`: dictionary mapping words to their GloVe vector representation.\n",
    "\n"
   ]
  },
  {
   "cell_type": "code",
   "execution_count": 4,
   "metadata": {},
   "outputs": [
    {
     "name": "stdout",
     "output_type": "stream",
     "text": [
      "Example of words:  ['wavefront', 'landquart', 'wyeth', 'goetschl', 'capillaries', 'naby', 'setapak', 'minstrels', 'lvds', 'anko']\n",
      "Vector for word 'person' =  [ 0.61734    0.40035    0.067786  -0.34263    2.0647     0.60844\n",
      "  0.32558    0.3869     0.36906    0.16553    0.0065053 -0.075674\n",
      "  0.57099    0.17314    1.0142    -0.49581   -0.38152    0.49255\n",
      " -0.16737   -0.33948   -0.44405    0.77543    0.20935    0.6007\n",
      "  0.86649   -1.8923    -0.37901   -0.28044    0.64214   -0.23549\n",
      "  2.9358    -0.086004  -0.14327   -0.50161    0.25291   -0.065446\n",
      "  0.60768    0.13984    0.018135  -0.34877    0.039985   0.07943\n",
      "  0.39318    1.0562    -0.23624   -0.4194    -0.35332   -0.15234\n",
      "  0.62158    0.79257  ]\n"
     ]
    }
   ],
   "source": [
    "list_of_words = list(words)\n",
    "print(\"Example of words: \",list(words)[:10])\n",
    "print(\"Vector for word 'person' = \", word_to_vec_map.get('person'))\n",
    "\n"
   ]
  },
  {
   "cell_type": "markdown",
   "metadata": {},
   "source": [
    "GloVe vectors provide much more useful information about the meaning of individual words. Lets now see how you can use GloVe vectors to decide how similar two words are. \n"
   ]
  },
  {
   "cell_type": "markdown",
   "metadata": {},
   "source": [
    "# Cosine similarity\n",
    "\n",
    "To measure how similar two words are, we need a way to measure the degree of similarity between two embedding vectors for the two words. Given two vectors $u$ and $v$, cosine similarity is defined as follows: \n",
    "\n",
    "\\begin{equation}\n",
    "\\text{CosineSimilarity(u, v)} = \\frac {u . v} {||u||_2 ||v||_2} = cos(\\theta) \\tag{1}\n",
    "\\end{equation}\n",
    "\n",
    "where $u.v$ is the dot product (or inner product) of two vectors, $||u||_2$ is the norm (or length) of the vector $u$, and $\\theta$ is the angle between $u$ and $v$. This similarity depends on the angle between $u$ and $v$. If $u$ and $v$ are very similar, their cosine similarity will be close to 1; if they are dissimilar, the cosine similarity will take a smaller value. \n",
    "\n",
    "\n",
    "![](images/cosine_sim.png)\n",
    "\n",
    "<caption><center> <b>Figure 1</b>: The cosine of the angle between two vectors is a measure of how similar they are</center></caption>\n",
    "\n"
   ]
  },
  {
   "cell_type": "markdown",
   "metadata": {},
   "source": [
    "***\n",
    "\n",
    "**Task 1**: Implement the function `cosine_similarity()` to evaluate similarity between word vectors.\n",
    "\n",
    "**Reminder**: The norm of $u$ is defined as $||u||_2 = \\sqrt{\\sum_{i=1}^{n} u_i^2}$"
   ]
  },
  {
   "cell_type": "code",
   "execution_count": 5,
   "metadata": {},
   "outputs": [
    {
     "name": "stdout",
     "output_type": "stream",
     "text": [
      "Similarity between 'wavefront' and 'landquart' is 0.009691132500844912\n",
      "Similarity between 'hele' and 'kobo' is 0.44207394947399953\n"
     ]
    }
   ],
   "source": [
    "## Task 1\n",
    "# cosine_similarity\n",
    "\n",
    "import math \n",
    "\n",
    "def cosine_similarity_function(u, v):\n",
    "    \n",
    "    dot_product_u_v = np.dot(u,v)\n",
    "    \n",
    "    sum_u = 0\n",
    "    for i in u:\n",
    "        i = i ** 2 \n",
    "        sum_u = sum_u + i\n",
    "        \n",
    "    norm_2_u = math.sqrt(sum_u)\n",
    "    \n",
    "    sum_v = 0\n",
    "    for j in v:\n",
    "        j = j ** 2 \n",
    "        sum_v = sum_v + j\n",
    "        \n",
    "    norm_2_v = math.sqrt(sum_v)\n",
    "    \n",
    "    \n",
    "    cosine_similarity = dot_product_u_v/(norm_2_u*norm_2_v)\n",
    "    \n",
    "    return cosine_similarity\n",
    "    \n",
    "\n",
    "    ## START YOU CODE HERE\n",
    "    \n",
    "similarity1 = cosine_similarity_function(word_to_vec_map.get(list_of_words[0]),  word_to_vec_map.get(list_of_words[1]))\n",
    "print(\"Similarity between '{}' and '{}' is {}\".format(list_of_words[0], list_of_words[1], similarity1))\n",
    "\n",
    "similarity2 = cosine_similarity_function(word_to_vec_map.get(list_of_words[10]),  word_to_vec_map.get(list_of_words[20]))\n",
    "print(\"Similarity between '{}' and '{}' is {}\".format(list_of_words[10], list_of_words[20], similarity2))\n",
    "\n",
    "    ## END"
   ]
  },
  {
   "cell_type": "markdown",
   "metadata": {},
   "source": [
    "***\n",
    "\n",
    "**Task 2**: Implement `most_similar_word` which returns the most similar word to a word."
   ]
  },
  {
   "cell_type": "code",
   "execution_count": 6,
   "metadata": {},
   "outputs": [
    {
     "name": "stdout",
     "output_type": "stream",
     "text": [
      "The most similar word to 'u' in the list of words is 'o' with the cosine similarity of 0.7432858003299065\n"
     ]
    }
   ],
   "source": [
    "## Task 2\n",
    "# GRADED FUNCTION: most_similar_word\n",
    "\n",
    "def most_similar_word(word, word_to_vec):\n",
    "    \n",
    "    \"\"\"\n",
    "    Most similar word return the most similar word to the word u.\n",
    "        \n",
    "    Arguments:\n",
    "        word -- a word, string        \n",
    "        word_to_vec_map -- dictionary that maps words to their corresponding vectors. \n",
    "    \n",
    "    Returns:\n",
    "    best_word --  the most similar word to u as measured by cosine similarity\n",
    "    \"\"\" \n",
    "    \n",
    "    \n",
    "\n",
    "    v = word_to_vec_map.get(word)\n",
    "    \n",
    "    sum_v = 0\n",
    "    for k in v:\n",
    "        k_square = k ** 2 \n",
    "        sum_v = sum_v + k_square\n",
    "\n",
    "    norm_2_v = math.sqrt(sum_v)\n",
    "    \n",
    "    # duplicate the list\n",
    "    copy_list_of_words = list_of_words.copy()\n",
    "    \n",
    "    # returns a value without 'u' in the list\n",
    "    new_list_of_words = [i for i in copy_list_of_words if i != 'u']\n",
    "    \n",
    "    array_cosine_similarity = []\n",
    "    \n",
    "    for i in new_list_of_words:\n",
    "        \n",
    "        u = word_to_vec_map.get(i)\n",
    "        dot_product_i_word = np.dot(u,v)\n",
    "    \n",
    "        sum_u = 0\n",
    "        for j in u:\n",
    "            j_square = j ** 2 \n",
    "            sum_u = sum_u + j_square\n",
    "\n",
    "        norm_2_u = math.sqrt(sum_u)\n",
    "\n",
    "\n",
    "        cosine_similarity_u_v = dot_product_i_word/(norm_2_u*norm_2_v)\n",
    "        \n",
    "        array_cosine_similarity.append(cosine_similarity_u_v)\n",
    "        \n",
    "    \n",
    "    # find max value\n",
    "    max = array_cosine_similarity[0]\n",
    "    for i in array_cosine_similarity:\n",
    "        if i > max:\n",
    "            max = i\n",
    "    \n",
    "    index = array_cosine_similarity.index(max)\n",
    "    #print(index)\n",
    "    \n",
    "    highest_similarity_word = new_list_of_words[index]\n",
    "    print(\"The most similar word to 'u' in the list of words is '{}' with the cosine similarity of {}\".format(\n",
    "        highest_similarity_word, max))\n",
    "\n",
    "    \n",
    "    ## START YOU CODE HERE\n",
    "most_similar_word('u', word_to_vec_map.get('u'))\n",
    "\n",
    "    ## END\n",
    " \n"
   ]
  },
  {
   "cell_type": "markdown",
   "metadata": {},
   "source": [
    "Answer the questions below:"
   ]
  },
  {
   "cell_type": "markdown",
   "metadata": {},
   "source": [
    "**TASK 3: Write a code the answer the following questions:**\n",
    "\n",
    "***"
   ]
  },
  {
   "cell_type": "markdown",
   "metadata": {},
   "source": [
    "What is the similarity between the words brother and friend?"
   ]
  },
  {
   "cell_type": "code",
   "execution_count": 7,
   "metadata": {},
   "outputs": [
    {
     "name": "stdout",
     "output_type": "stream",
     "text": [
      "The similarity between the words 'brother' and 'friend' is 0.8713178668124655\n"
     ]
    }
   ],
   "source": [
    "brother_vector = word_to_vec_map.get('brother')\n",
    "\n",
    "\n",
    "friend_vector = word_to_vec_map.get('friend')\n",
    "\n",
    "dot_product_brother_friend = np.dot(brother_vector,friend_vector)\n",
    "\n",
    "sum_brother = 0\n",
    "for i in brother_vector:\n",
    "    i = i ** 2 \n",
    "    sum_brother = sum_brother + i\n",
    "\n",
    "norm_2_brother_vector = math.sqrt(sum_brother)\n",
    "\n",
    "sum_friend = 0\n",
    "for j in friend_vector:\n",
    "    j = j ** 2 \n",
    "    sum_friend = sum_friend + j\n",
    "\n",
    "norm_2_friend_vector = math.sqrt(sum_friend)\n",
    "\n",
    "\n",
    "cosine_similarity_brother_friend = dot_product_brother_friend/(norm_2_brother_vector*norm_2_friend_vector)\n",
    "print(\"The similarity between the words 'brother' and 'friend' is {}\".format(cosine_similarity_brother_friend))\n"
   ]
  },
  {
   "cell_type": "markdown",
   "metadata": {},
   "source": [
    "What is the similarity between the words computer and kid?"
   ]
  },
  {
   "cell_type": "code",
   "execution_count": 8,
   "metadata": {},
   "outputs": [
    {
     "name": "stdout",
     "output_type": "stream",
     "text": [
      "The similarity between the words 'computer' and 'kid' is 0.43800166210363856\n"
     ]
    }
   ],
   "source": [
    "computer_vector = word_to_vec_map.get('computer')\n",
    "\n",
    "kid_vector = word_to_vec_map.get('kid')\n",
    "\n",
    "\n",
    "dot_product_computer_kid = np.dot(computer_vector,kid_vector)\n",
    "\n",
    "sum_computer = 0\n",
    "for i in computer_vector:\n",
    "    i = i ** 2 \n",
    "    sum_computer = sum_computer + i\n",
    "\n",
    "norm_2_computer_vector = math.sqrt(sum_computer)\n",
    "\n",
    "\n",
    "sum_kid = 0\n",
    "for j in kid_vector:\n",
    "    j = j ** 2 \n",
    "    sum_kid = sum_kid + j\n",
    "\n",
    "norm_2_kid_vector = math.sqrt(sum_kid)\n",
    "\n",
    "\n",
    "cosine_similarity_computer_kid = dot_product_computer_kid/(norm_2_computer_vector*norm_2_kid_vector)\n",
    "print(\"The similarity between the words 'computer' and 'kid' is {}\".format(cosine_similarity_computer_kid))\n",
    "\n"
   ]
  },
  {
   "cell_type": "markdown",
   "metadata": {},
   "source": [
    "What is the similarity between the words V1=(france - paris) and V2=(rome - italy)?"
   ]
  },
  {
   "cell_type": "code",
   "execution_count": 9,
   "metadata": {},
   "outputs": [
    {
     "name": "stdout",
     "output_type": "stream",
     "text": [
      "The similarity between the words 'V1 (france - paris)' and 'V2 (rome - italy)' is -0.6751479308174203\n"
     ]
    }
   ],
   "source": [
    "V1 = word_to_vec_map.get('france') - word_to_vec_map.get('paris')\n",
    "V2 = word_to_vec_map.get('rome') - word_to_vec_map.get('italy')\n",
    "\n",
    "dot_product_V1_V2 = np.dot(V1,V2)\n",
    "\n",
    "sum_V1 = 0\n",
    "for i in V1:\n",
    "    i = i ** 2 \n",
    "    sum_V1 = sum_V1 + i\n",
    "\n",
    "norm_2_V1 = math.sqrt(sum_V1)\n",
    "\n",
    "\n",
    "sum_V2 = 0\n",
    "for j in V2:\n",
    "    j = j ** 2 \n",
    "    sum_V2 = sum_V2 + j\n",
    "\n",
    "norm_2_V2 = math.sqrt(sum_V2)\n",
    "\n",
    "\n",
    "cosine_similarity_V1_V2 = dot_product_V1_V2/(norm_2_V1*norm_2_V2)\n",
    "print(\"The similarity between the words 'V1 (france - paris)' and 'V2 (rome - italy)' is {}\".format(cosine_similarity_V1_V2))\n"
   ]
  },
  {
   "cell_type": "markdown",
   "metadata": {},
   "source": [
    "What is the most similar word to computer?\n"
   ]
  },
  {
   "cell_type": "code",
   "execution_count": 10,
   "metadata": {},
   "outputs": [
    {
     "name": "stdout",
     "output_type": "stream",
     "text": [
      "The most similar word to 'computer' in the list of words is 'computers' with the cosine similarity of 0.9165044765653498\n"
     ]
    }
   ],
   "source": [
    "v = word_to_vec_map.get('computer')\n",
    "    \n",
    "sum_v = 0\n",
    "for k in v:\n",
    "    k_square = k ** 2 \n",
    "    sum_v = sum_v + k_square\n",
    "\n",
    "norm_2_v = math.sqrt(sum_v)\n",
    "\n",
    "# duplicate the list\n",
    "copy_list_of_words = list_of_words.copy()\n",
    "\n",
    "# returns a value without 'computer' in the list\n",
    "new_list_of_words = [i for i in copy_list_of_words if i != 'computer']\n",
    "\n",
    "array_cosine_similarity = []\n",
    "\n",
    "for i in new_list_of_words:\n",
    "\n",
    "    u = word_to_vec_map.get(i)\n",
    "    dot_product_i_word = np.dot(u,v)\n",
    "\n",
    "    sum_u = 0\n",
    "    for j in u:\n",
    "        j_square = j ** 2 \n",
    "        sum_u = sum_u + j_square\n",
    "\n",
    "    norm_2_u = math.sqrt(sum_u)\n",
    "\n",
    "\n",
    "    cosine_similarity_u_v = dot_product_i_word/(norm_2_u*norm_2_v)\n",
    "\n",
    "    array_cosine_similarity.append(cosine_similarity_u_v)\n",
    "\n",
    "\n",
    "# find max value\n",
    "max = array_cosine_similarity[0]\n",
    "for i in array_cosine_similarity:\n",
    "    if i > max:\n",
    "        max = i\n",
    "\n",
    "index = array_cosine_similarity.index(max)\n",
    "#print(index)\n",
    "\n",
    "highest_similarity_word = new_list_of_words[index]\n",
    "print(\"The most similar word to 'computer' in the list of words is '{}' with the cosine similarity of {}\".format(\n",
    "    highest_similarity_word, max))"
   ]
  },
  {
   "cell_type": "markdown",
   "metadata": {},
   "source": [
    "What is the most similar word to australia?"
   ]
  },
  {
   "cell_type": "code",
   "execution_count": 11,
   "metadata": {},
   "outputs": [
    {
     "name": "stdout",
     "output_type": "stream",
     "text": [
      "The most similar word to 'australia' in the list of words is 'zealand' with the cosine similarity of 0.92077950622842\n"
     ]
    }
   ],
   "source": [
    "v = word_to_vec_map.get('australia')\n",
    "    \n",
    "sum_v = 0\n",
    "for k in v:\n",
    "    k_square = k ** 2 \n",
    "    sum_v = sum_v + k_square\n",
    "\n",
    "norm_2_v = math.sqrt(sum_v)\n",
    "\n",
    "# duplicate the list\n",
    "copy_list_of_words = list_of_words.copy()\n",
    "\n",
    "# returns a value without 'australia' in the list\n",
    "new_list_of_words = [i for i in copy_list_of_words if i != 'australia']\n",
    "\n",
    "array_cosine_similarity = []\n",
    "\n",
    "for i in new_list_of_words:\n",
    "\n",
    "    u = word_to_vec_map.get(i)\n",
    "    dot_product_i_word = np.dot(u,v)\n",
    "\n",
    "    sum_u = 0\n",
    "    for j in u:\n",
    "        j_square = j ** 2 \n",
    "        sum_u = sum_u + j_square\n",
    "\n",
    "    norm_2_u = math.sqrt(sum_u)\n",
    "\n",
    "    cosine_similarity_u_v = dot_product_i_word/(norm_2_u*norm_2_v)\n",
    "\n",
    "    array_cosine_similarity.append(cosine_similarity_u_v)\n",
    "\n",
    "\n",
    "# find max value\n",
    "max = array_cosine_similarity[0]\n",
    "for i in array_cosine_similarity:\n",
    "    if i > max:\n",
    "        max = i\n",
    "\n",
    "index = array_cosine_similarity.index(max)\n",
    "#print(index)\n",
    "\n",
    "highest_similarity_word = new_list_of_words[index]\n",
    "print(\"The most similar word to 'australia' in the list of words is '{}' with the cosine similarity of {}\".format(\n",
    "    highest_similarity_word, max))"
   ]
  },
  {
   "cell_type": "markdown",
   "metadata": {},
   "source": [
    "What is the most similar word to python?\n"
   ]
  },
  {
   "cell_type": "code",
   "execution_count": 12,
   "metadata": {},
   "outputs": [
    {
     "name": "stdout",
     "output_type": "stream",
     "text": [
      "The most similar word to 'python' in the list of words is 'reticulated' with the cosine similarity of 0.6916364915886599\n"
     ]
    }
   ],
   "source": [
    "v = word_to_vec_map.get('python')\n",
    "    \n",
    "sum_v = 0\n",
    "for k in v:\n",
    "    k_square = k ** 2 \n",
    "    sum_v = sum_v + k_square\n",
    "\n",
    "norm_2_v = math.sqrt(sum_v)\n",
    "\n",
    "# duplicate the list\n",
    "copy_list_of_words = list_of_words.copy()\n",
    "\n",
    "# returns a value without 'python' in the list\n",
    "new_list_of_words = [i for i in copy_list_of_words if i != 'python']\n",
    "\n",
    "array_cosine_similarity = []\n",
    "\n",
    "for i in new_list_of_words:\n",
    "\n",
    "    u = word_to_vec_map.get(i)\n",
    "    dot_product_i_word = np.dot(u,v)\n",
    "\n",
    "    sum_u = 0\n",
    "    for j in u:\n",
    "        j_square = j ** 2 \n",
    "        sum_u = sum_u + j_square\n",
    "\n",
    "    norm_2_u = math.sqrt(sum_u)\n",
    "\n",
    "    cosine_similarity_u_v = dot_product_i_word/(norm_2_u*norm_2_v)\n",
    "\n",
    "    array_cosine_similarity.append(cosine_similarity_u_v)\n",
    "\n",
    "\n",
    "# find max value\n",
    "max = array_cosine_similarity[0]\n",
    "for i in array_cosine_similarity:\n",
    "    if i > max:\n",
    "        max = i\n",
    "\n",
    "index = array_cosine_similarity.index(max)\n",
    "#print(index)\n",
    "\n",
    "highest_similarity_word = new_list_of_words[index]\n",
    "print(\"The most similar word to 'python' in the list of words is '{}' with the cosine similarity of {}\".format(\n",
    "    highest_similarity_word, max))"
   ]
  },
  {
   "cell_type": "markdown",
   "metadata": {},
   "source": [
    "***"
   ]
  },
  {
   "cell_type": "markdown",
   "metadata": {},
   "source": [
    "Playing around the cosine similarity of other inputs will give you a better sense of how word vectors behave. "
   ]
  },
  {
   "cell_type": "markdown",
   "metadata": {},
   "source": [
    "#  Word analogy task\n",
    "\n",
    "In the word analogy task, we complete the sentence <font color='brown'>\"*a* is to *b* as *c* is to **____**\"</font>. An example is <font color='brown'> '*man* is to *woman* as *king* is to *queen*' </font>. In detail, we are trying to find a word *d*, such that the associated word vectors $e_a, e_b, e_c, e_d$ are related in the following manner: $e_b - e_a \\approx e_d - e_c$. We will measure the similarity between $e_b - e_a$ and $e_d - e_c$ using cosine similarity. \n",
    "\n",
    "\n",
    "**Task 4**: Complete the code below to be able to perform word analogies!\n",
    "\n",
    "***"
   ]
  },
  {
   "cell_type": "code",
   "execution_count": 31,
   "metadata": {},
   "outputs": [
    {
     "name": "stdout",
     "output_type": "stream",
     "text": [
      "'hele' is to 'lvds' as 'politic' is to 'matroid' of cosine similarity 0.589543456472761\n"
     ]
    }
   ],
   "source": [
    "## Task 4\n",
    "# GRADED FUNCTION: complete_analogy\n",
    "\n",
    "import math\n",
    "\n",
    "def complete_analogy(word_a, word_b, word_c, word_to_vec_map):\n",
    "    \"\"\"\n",
    "    Performs the word analogy task as explained above: a is to b as c is to ____. \n",
    "    \n",
    "    Arguments:\n",
    "    word_a -- a word, string\n",
    "    word_b -- a word, string\n",
    "    word_c -- a word, string\n",
    "    word_to_vec_map -- dictionary that maps words to their corresponding vectors. \n",
    "    \n",
    "    Returns:\n",
    "    best_word --  the word such that v_b - v_a is close to v_best_word - v_c, as measured by cosine similarity\n",
    "    \"\"\"\n",
    "    \n",
    "    a_vector = word_to_vec_map.get(word_a)\n",
    "    b_vector = word_to_vec_map.get(word_b)\n",
    "    \n",
    "    v1 = b_vector - a_vector\n",
    "    \n",
    "    sum_V1 = 0\n",
    "    for i in v1:\n",
    "        i_square = i ** 2 \n",
    "        sum_V1 = sum_V1 + i_square\n",
    "\n",
    "    norm_2_V1 = math.sqrt(sum_V1)\n",
    "\n",
    "    c_vector = word_to_vec_map.get(word_c)\n",
    "    \n",
    "    # copy a list of word\n",
    "    copy_list_of_words = list_of_words.copy()\n",
    "\n",
    "    # returns a value without word_c in the list\n",
    "    new_list_of_words = [i for i in copy_list_of_words if i != word_c]\n",
    "    \n",
    "    \n",
    "    array_cosine_similarity = []\n",
    "    \n",
    "    \n",
    "    for i in new_list_of_words:\n",
    "\n",
    "        new_word = word_to_vec_map.get(i)\n",
    "        \n",
    "        v2 = new_word - c_vector\n",
    "        \n",
    "        sum_V2 = 0\n",
    "        for j in v2:\n",
    "            j_square = j ** 2 \n",
    "            sum_V2 = sum_V2 + j_square\n",
    "\n",
    "        norm_2_V2 = math.sqrt(sum_V2)\n",
    "        \n",
    "        dot_product_v1_v2 = np.dot(v1,v2)\n",
    "        cosine_similarity_u_v = dot_product_v1_v2/(norm_2_V1*norm_2_V2)\n",
    "        \n",
    "        array_cosine_similarity.append(cosine_similarity_u_v)\n",
    "    \n",
    "    # find max value\n",
    "    max = array_cosine_similarity[0]\n",
    "    for i in array_cosine_similarity:\n",
    "        if i > max:\n",
    "            max = i\n",
    "\n",
    "    index = array_cosine_similarity.index(max)\n",
    "    #print(index)\n",
    "\n",
    "    highest_similarity_word = new_list_of_words[index]\n",
    "    \n",
    "    print(\"'{}' is to '{}' as '{}' is to '{}' of cosine similarity {}\".format(\n",
    "        word_a, word_b, word_c,highest_similarity_word, max))\n",
    "\n",
    "\n",
    "        \n",
    "\n",
    "    \n",
    "    ## START YOU CODE HERE\n",
    "    \n",
    "complete_analogy(list_of_words[10], list_of_words[8], list_of_words[45], word_to_vec_map)\n",
    "\n",
    "    ##ENFD\n"
   ]
  },
  {
   "cell_type": "markdown",
   "metadata": {},
   "source": [
    "Run the cell below to test your code, this may take 1-2 minutes."
   ]
  },
  {
   "cell_type": "code",
   "execution_count": 14,
   "metadata": {},
   "outputs": [
    {
     "name": "stdout",
     "output_type": "stream",
     "text": [
      "italy and italian has the cosine similarity of 0.8423283703580938\n",
      "spain and brazil has the cosine similarity of 0.8340149370596243\n",
      "Therefore, italy is to italian as spain is to brazil\n",
      "\n",
      "italy -> italian :: spain -> None\n",
      "india and delhi has the cosine similarity of 0.8142766830734145\n",
      "japan and korea has the cosine similarity of 0.8154973165622372\n",
      "Therefore, india is to delhi as japan is to korea\n",
      "\n",
      "india -> delhi :: japan -> None\n",
      "man and woman has the cosine similarity of 0.886033771849582\n",
      "boy and woman has the cosine similarity of 0.8596120447433488\n",
      "Therefore, man is to woman as boy is to woman\n",
      "\n",
      "man -> woman :: boy -> None\n",
      "small and smaller has the cosine similarity of 0.8903936492649787\n",
      "large and smaller has the cosine similarity of 0.8906458656865412\n",
      "Therefore, small is to smaller as large is to smaller\n",
      "\n",
      "small -> smaller :: large -> None\n"
     ]
    }
   ],
   "source": [
    "triads_to_try = [('italy', 'italian', 'spain'), ('india', 'delhi', 'japan'), ('man', 'woman', 'boy'), ('small', 'smaller', 'large')]\n",
    "for triad in triads_to_try:\n",
    "    print ('{} -> {} :: {} -> {}'.format( *triad, complete_analogy(*triad,word_to_vec_map, 0.1)))"
   ]
  },
  {
   "cell_type": "markdown",
   "metadata": {},
   "source": [
    "Once you get the correct expected output, please feel free to modify the input cells above to test your own analogies. Try to find some other analogy pairs that do work, but also find some where the algorithm doesn't give the right answer: For example, you can try small->smaller as big->?.  "
   ]
  },
  {
   "cell_type": "markdown",
   "metadata": {},
   "source": [
    "# Debiasing word vectors"
   ]
  },
  {
   "cell_type": "markdown",
   "metadata": {},
   "source": [
    "In the following exercise, you will examine gender biases that can be reflected in a word embedding, and explore algorithms for reducing the bias. In addition to learning about the topic of debiasing, this exercise will also help hone your intuition about what word vectors are doing. This section involves a bit of linear algebra, though you can probably complete it even without being expert in linear algebra, and we encourage you to give it a shot. \n",
    "\n",
    "Lets first see how the GloVe word embeddings relate to gender. You will first compute a vector $g = e_{woman}-e_{man}$, where $e_{woman}$ represents the word vector corresponding to the word *woman*, and $e_{man}$ corresponds to the word vector corresponding to the word *man*. The resulting vector $g$ roughly encodes the concept of \"gender\". (You might get a more accurate representation if you compute $g_1 = e_{mother}-e_{father}$, $g_2 = e_{girl}-e_{boy}$, etc. and average over them. But just using $e_{woman}-e_{man}$ will give good enough results for now.) \n"
   ]
  },
  {
   "cell_type": "markdown",
   "metadata": {},
   "source": [
    "**Task 5:** Compute the bias vector using woman - man\n",
    "\n",
    "***"
   ]
  },
  {
   "cell_type": "code",
   "execution_count": 15,
   "metadata": {},
   "outputs": [
    {
     "name": "stdout",
     "output_type": "stream",
     "text": [
      "[-0.087144    0.2182     -0.40986    -0.03922    -0.1032      0.94165\n",
      " -0.06042     0.32988     0.46144    -0.35962     0.31102    -0.86824\n",
      "  0.96006     0.01073     0.24337     0.08193    -1.02722    -0.21122\n",
      "  0.695044   -0.00222     0.29106     0.5053     -0.099454    0.40445\n",
      "  0.30181     0.1355     -0.0606     -0.07131    -0.19245    -0.06115\n",
      " -0.3204      0.07165    -0.13337    -0.25068714 -0.14293    -0.224957\n",
      " -0.149       0.048882    0.12191    -0.27362    -0.165476   -0.20426\n",
      "  0.54376    -0.271425   -0.10245    -0.32108     0.2516     -0.33455\n",
      " -0.04371     0.01258   ]\n"
     ]
    }
   ],
   "source": [
    "## START YOU CODE HERE\n",
    "\n",
    "g = word_to_vec_map.get('woman') - word_to_vec_map.get('man')\n",
    "\n",
    "## END\n",
    "\n",
    "print(g)"
   ]
  },
  {
   "cell_type": "markdown",
   "metadata": {},
   "source": [
    "***"
   ]
  },
  {
   "cell_type": "markdown",
   "metadata": {},
   "source": [
    "Now, you will consider the cosine similarity of different words with $g$. Consider what a positive value of similarity means vs a negative cosine similarity. "
   ]
  },
  {
   "cell_type": "markdown",
   "metadata": {
    "scrolled": false
   },
   "source": [
    "**Task 6: Compute and print the similarity between g and the words in name_list**\n",
    "\n",
    "***\n",
    "    "
   ]
  },
  {
   "cell_type": "code",
   "execution_count": 16,
   "metadata": {},
   "outputs": [
    {
     "name": "stdout",
     "output_type": "stream",
     "text": [
      "List of names and their similarities with constructed vector:\n",
      "['john', 'marie', 'sophie', 'ronaldo', 'priya', 'rahul', 'danielle', 'reza', 'katy', 'yasmin']\n",
      "[-0.2316335614597372, 0.315597935396073, 0.3186878985941878, -0.3124479685032943, 0.17632041839009396, -0.16915471039231716, 0.24393299216283895, -0.07930429672199552, 0.2831068659572614, 0.23313857767928753]\n"
     ]
    }
   ],
   "source": [
    "print ('List of names and their similarities with constructed vector:')\n",
    "\n",
    "name_list = ['john', 'marie', 'sophie', 'ronaldo', 'priya', 'rahul', 'danielle', 'reza', 'katy', 'yasmin']\n",
    "print(name_list)\n",
    "\n",
    "## START YOU CODE HERE\n",
    "\n",
    "array_cosine_similarity = []\n",
    "\n",
    "for i in name_list:\n",
    "    \n",
    "    name_vector = word_to_vec_map.get(i)\n",
    "\n",
    "\n",
    "    dot_product_g_name_vector = np.dot(g,name_vector)\n",
    "\n",
    "    sum_g = 0\n",
    "    for i in g:\n",
    "        i = i ** 2 \n",
    "        sum_g = sum_g + i\n",
    "\n",
    "    norm_2_g = math.sqrt(sum_g)\n",
    "\n",
    "\n",
    "    sum_name_vector = 0\n",
    "    for j in name_vector:\n",
    "        j = j ** 2 \n",
    "        sum_name_vector = sum_name_vector + j\n",
    "\n",
    "    norm_2_name_vector = math.sqrt(sum_name_vector)\n",
    "\n",
    "\n",
    "    cosine_similarity_g_name = dot_product_g_name_vector/(norm_2_g*norm_2_name_vector)\n",
    "    \n",
    "    array_cosine_similarity.append(cosine_similarity_g_name)\n",
    "\n",
    "print(array_cosine_similarity)\n",
    "    \n",
    "    \n",
    "    \n",
    "\n",
    "## END "
   ]
  },
  {
   "cell_type": "markdown",
   "metadata": {},
   "source": [
    "***"
   ]
  },
  {
   "cell_type": "markdown",
   "metadata": {},
   "source": [
    "**TASK 7: What do you observe?**\n",
    "\n",
    "***\n",
    "\n",
    "The female names have a positive cosine similarity and the male names have a negative cosine similarity.\n",
    "\n",
    "***"
   ]
  },
  {
   "cell_type": "markdown",
   "metadata": {},
   "source": [
    "**Task 8: Compute and print the similarity between g and the words in word_list:**\n",
    "\n",
    "***"
   ]
  },
  {
   "cell_type": "code",
   "execution_count": 17,
   "metadata": {},
   "outputs": [
    {
     "name": "stdout",
     "output_type": "stream",
     "text": [
      "Other words and their similarities:\n",
      "['lipstick', 'guns', 'science', 'arts', 'literature', 'warrior', 'doctor', 'tree', 'receptionist', 'technology', 'fashion', 'teacher', 'engineer', 'pilot', 'computer', 'singer']\n",
      "[0.27691916256382665, -0.1888485567898897, -0.060829065409296994, 0.008189312385880337, 0.0647250443345993, -0.20920164641125283, 0.11895289410935037, -0.07089399175478088, 0.3307794175059373, -0.13193732447554296, 0.03563894625772699, 0.1792092343182566, -0.0803928049452407, 0.0010764498991916935, -0.10330358873850497, 0.18500518136496286]\n"
     ]
    }
   ],
   "source": [
    "print('Other words and their similarities:')\n",
    "\n",
    "word_list = ['lipstick', 'guns', 'science', 'arts', 'literature', 'warrior','doctor', 'tree', 'receptionist', \n",
    "             'technology',  'fashion', 'teacher', 'engineer', 'pilot', 'computer', 'singer']\n",
    "\n",
    "print(word_list)\n",
    "\n",
    "## START YOU CODE HERE\n",
    "\n",
    "array_cosine_similarity = []\n",
    "\n",
    "for i in word_list:\n",
    "    \n",
    "    word_vector = word_to_vec_map.get(i)\n",
    "\n",
    "\n",
    "    dot_product_g_word_vector = np.dot(g,word_vector)\n",
    "\n",
    "    sum_g = 0\n",
    "    for i in g:\n",
    "        i = i ** 2 \n",
    "        sum_g = sum_g + i\n",
    "\n",
    "    norm_2_g = math.sqrt(sum_g)\n",
    "\n",
    "\n",
    "    sum_word_vector = 0\n",
    "    for j in word_vector:\n",
    "        j = j ** 2 \n",
    "        sum_word_vector = sum_word_vector + j\n",
    "\n",
    "    norm_2_word_vector = math.sqrt(sum_word_vector)\n",
    "\n",
    "\n",
    "    cosine_similarity_g_word = dot_product_g_word_vector/(norm_2_g*norm_2_word_vector)\n",
    "    \n",
    "    array_cosine_similarity.append(cosine_similarity_g_word)\n",
    "\n",
    "print(array_cosine_similarity)\n",
    "\n",
    "## END \n"
   ]
  },
  {
   "cell_type": "markdown",
   "metadata": {},
   "source": [
    "***"
   ]
  },
  {
   "cell_type": "markdown",
   "metadata": {},
   "source": [
    "**TASK 9: What do you observe?**\n",
    "\n",
    "***\n",
    "\n",
    "\"lipstick\" and \"receptionist\" have the highest positive cosine similarity, showing a bias towards the female gender while \"warrior\" and \"gun\" have highest negative cosine similarity, showing a bias to the male gender. This observation is seen when being compared to the cosine similarity with respect to the female and male names.\n",
    "\n",
    "\n",
    "***\n"
   ]
  },
  {
   "cell_type": "markdown",
   "metadata": {},
   "source": [
    "\n",
    "We'll see below how to reduce the bias of these vectors, using an algorithm due to [Boliukbasi et al., 2016](https://arxiv.org/abs/1607.06520). Note that some word pairs such as \"actor\"/\"actress\" or \"grandmother\"/\"grandfather\" should remain gender specific, while other words such as \"receptionist\" or \"technology\" should be neutralized, i.e. not be gender-related. You will have to treat these two type of words differently when debiasing.\n",
    "\n",
    "# Neutralize bias for non-gender specific words \n",
    "\n",
    "The figure below should help you visualize what neutralizing does. If you're using a 50-dimensional word embedding, the 50 dimensional space can be split into two parts: The bias-direction $g$, and the remaining 49 dimensions, which we'll call $g_{\\perp}$. In linear algebra, we say that the 49 dimensional $g_{\\perp}$ is perpendicular (or \"orthogonal\") to $g$, meaning it is at 90 degrees to $g$. The neutralization step takes a vector such as $e_{receptionist}$ and zeros out the component in the direction of $g$, giving us $e_{receptionist}^{debiased}$. \n",
    "\n",
    "Even though $g_{\\perp}$ is 49 dimensional, given the limitations of what we can draw on a screen, we illustrate it using a 1 dimensional axis below. \n",
    "\n",
    "\n",
    "![](images/neutral.png)\n",
    "\n",
    "\n",
    "<caption><center> <b>Figure 2</b>: The word vector for \"receptionist\" represented before and after applying the neutralize operation. </center></caption>\n",
    "\n",
    "**TASK 10**: Implement `neutralize()` to remove the bias of words such as \"receptionist\" or \"scientist\". Given an input embedding $e$, you can use the following formulas to compute $e^{debiased}$: \n",
    "\n",
    "\n",
    "\\begin{equation}\n",
    "e^{bias\\_component} = \\frac{e \\cdot g}{||g||_2^2} * g\\tag{2}\n",
    "\\end{equation}\n",
    "\n",
    "\\begin{equation}\n",
    "e^{debiased} = e - e^{bias\\_component}\\tag{3}\n",
    "\\end{equation}\n",
    "\n",
    "If you are an expert in linear algebra, you may recognize $e^{bias\\_component}$ as the projection of $e$ onto the direction $g$. If you're not an expert in linear algebra, don't worry about this.\n",
    "\n",
    "<!-- \n",
    "**Reminder**: a vector $u$ can be split into two parts: its projection over a vector-axis $v_B$ and its projection over the axis orthogonal to $v$:\n",
    "$$u = u_B + u_{\\perp}$$\n",
    "where : $u_B = $ and $ u_{\\perp} = u - u_B $\n",
    "!--> \n",
    "***"
   ]
  },
  {
   "cell_type": "code",
   "execution_count": 18,
   "metadata": {},
   "outputs": [],
   "source": [
    "# TASK 10\n",
    "# GRADED neutralize\n",
    "\n",
    "def neutralize(word, g, word_to_vec_map):\n",
    "    \"\"\"\n",
    "    Removes the bias of \"word\" by projecting it on the space orthogonal to the bias axis. \n",
    "    This function ensures that gender neutral words are zero in the gender subspace.\n",
    "    \n",
    "    Arguments:\n",
    "        word -- string indicating the word to debias\n",
    "        g -- numpy-array of shape (50,), corresponding to the bias axis (such as gender)\n",
    "        word_to_vec_map -- dictionary mapping words to their corresponding vectors.\n",
    "    \n",
    "    Returns:\n",
    "        e_debiased -- neutralized word vector representation of the input \"word\"\n",
    "        \n",
    "    \"\"\"\n",
    "    g = word_to_vec_map.get('woman') - word_to_vec_map.get('man')\n",
    "    \n",
    "    \n",
    "    e = word_to_vec_map.get(word)\n",
    "    \n",
    "    dot_product_g_e = np.dot(g,e)\n",
    "    \n",
    "    sum_g = 0\n",
    "    for j in g:\n",
    "        j = j ** 2 \n",
    "        sum_g = sum_g + j\n",
    "\n",
    "    norm_2_g = math.sqrt(sum_g)\n",
    "    \n",
    "    e_bias = (dot_product_g_e/norm_2_g**2) * g\n",
    "    \n",
    "    e_debiased = e - e_bias\n",
    "    \n",
    "    return e_debiased\n",
    "\n",
    "    \n",
    "    ## START YOU CODE HERE\n",
    "\n",
    "#cosine_similarity_function(word_to_vec_map.get(list_of_words[0]),  word_to_vec_map.get(list_of_words[1]))\n",
    "\n",
    "    ## END \n",
    "    "
   ]
  },
  {
   "cell_type": "code",
   "execution_count": 19,
   "metadata": {},
   "outputs": [
    {
     "name": "stdout",
     "output_type": "stream",
     "text": [
      "cosine similarity between receptionist and g, before neutralizing:  0.3307794175059373\n",
      "cosine similarity between receptionist and g, after neutralizing:  1.5423976002330523e-16\n"
     ]
    }
   ],
   "source": [
    "e = \"receptionist\"\n",
    "print(\"cosine similarity between \" + e + \" and g, before neutralizing: \", cosine_similarity_function(word_to_vec_map.get(\"receptionist\"), g))\n",
    "\n",
    "e_debiased = neutralize(\"receptionist\", g, word_to_vec_map)\n",
    "print(\"cosine similarity between \" + e + \" and g, after neutralizing: \", cosine_similarity_function(e_debiased, g))"
   ]
  },
  {
   "cell_type": "markdown",
   "metadata": {},
   "source": [
    "# Equalization algorithm for gender-specific words\n",
    "\n",
    "Next, lets see how debiasing can also be applied to word pairs such as \"actress\" and \"actor.\" Equalization is applied to pairs of words that you might want to have differ only through the gender property. As a concrete example, suppose that \"actress\" is closer to \"babysit\" than \"actor.\" By applying neutralizing to \"babysit\" we can reduce the gender-stereotype associated with babysitting. But this still does not guarantee that \"actor\" and \"actress\" are equidistant from \"babysit.\" The equalization algorithm takes care of this. \n",
    "\n",
    "The key idea behind equalization is to make sure that a particular pair of words are equi-distant from the 49-dimensional $g_\\perp$. The equalization step also ensures that the two equalized steps are now the same distance from $e_{receptionist}^{debiased}$, or from any other word that has been neutralized. In pictures, this is how equalization works: \n",
    "\n",
    "\n",
    "![](images/equalize10.png)\n",
    "\n",
    "\n",
    "\n",
    "The derivation of the linear algebra to do this is a bit more complex. (See Bolukbasi et al., 2016 for details.) But the key equations are: \n",
    "\n",
    "\\begin{equation}\n",
    "\\mu = \\frac{e_{w1} + e_{w2}}{2}\\tag{4}\n",
    "\\end{equation}\n",
    "\n",
    "\\begin{equation}\n",
    "\\mu_{B} = \\frac {\\mu \\cdot bias\\_axis}{||bias\\_axis||_2^2} *bias\\_axis\n",
    "\\tag{5}\n",
    "\\end{equation}\n",
    "\n",
    "\\begin{equation}\n",
    "\\mu_{\\perp} = \\mu - \\mu_{B} \\tag{6}\n",
    "\\end{equation}\n",
    "\n",
    "\\begin{equation}\n",
    "e_{w1B} = \\frac {e_{w1} \\cdot bias\\_axis}{||bias\\_axis||_2^2} *bias\\_axis\n",
    "\\tag{7}\n",
    "\\end{equation}\n",
    "\n",
    "\\begin{equation}\n",
    "e_{w2B} = \\frac {e_{w2} \\cdot bias\\_axis}{||bias\\_axis||_2^2} *bias\\_axis\n",
    "\\tag{8}\n",
    "\\end{equation}\n",
    "\n",
    "\\begin{equation}\n",
    "e_{w1B}^{corrected} = \\sqrt{ |{1 - ||\\mu_{\\perp} ||^2_2} |} * \\frac{e_{\\text{w1B}} - \\mu_B} {||(e_{w1} - \\mu_{\\perp}) - \\mu_B||} \\tag{9}\n",
    "\\end{equation}\n",
    "\n",
    "\\begin{equation}\n",
    "e_{w2B}^{corrected} = \\sqrt{ |{1 - ||\\mu_{\\perp} ||^2_2} |} * \\frac{e_{\\text{w2B}} - \\mu_B} {||(e_{w2} - \\mu_{\\perp}) - \\mu_B||} \\tag{10}\n",
    "\\end{equation}\n",
    "\n",
    "\\begin{equation}\n",
    "e_1 = e_{w1B}^{corrected} + \\mu_{\\perp} \\tag{11}\n",
    "\\end{equation}\n",
    "\n",
    "\\begin{equation}\n",
    "e_2 = e_{w2B}^{corrected} + \\mu_{\\perp} \\tag{12}\n",
    "\\end{equation}\n",
    "\n",
    "**TASK 11**: Implement the function below. Use the equations above to get the final equalized version of the pair of words. Good luck!\n",
    "\n",
    "***"
   ]
  },
  {
   "cell_type": "code",
   "execution_count": 56,
   "metadata": {},
   "outputs": [],
   "source": [
    "# TASK 11\n",
    "# GRADED equalize\n",
    "\n",
    "\n",
    "def equalize(pair, bias_axis, word_to_vec_map):\n",
    "    \"\"\"\n",
    "    Debias gender specific words by following the equalize method described in the figure above.\n",
    "    \n",
    "    Arguments:\n",
    "    pair -- pair of strings of gender specific words to debias, e.g. (\"actress\", \"actor\") \n",
    "    bias_axis -- numpy-array of shape (50,), vector corresponding to the bias axis, e.g. gender\n",
    "    word_to_vec_map -- dictionary mapping words to their corresponding vectors\n",
    "    \n",
    "    Returns\n",
    "    e_1 -- word vector corresponding to the first word\n",
    "    e_2 -- word vector corresponding to the second word\n",
    "    \"\"\"\n",
    "    \n",
    "    w1, w2 = pair\n",
    "    e_w1, e_w2 = word_to_vec_map.get(w1), word_to_vec_map.get(w2)\n",
    "    \n",
    "    mu = (e_w1 + e_w2)/2\n",
    "    \n",
    "    sum_bias = 0\n",
    "    for i in bias_axis:\n",
    "        i = i ** 2 \n",
    "        sum_bias = sum_bias + i\n",
    "\n",
    "    norm_2_bias = math.sqrt(sum_bias)\n",
    "    \n",
    "    mu_b = (np.dot(mu,bias_axis)/norm_2_bias**2) * bias_axis\n",
    "    \n",
    "    mu_orth = mu - mu_b\n",
    "    \n",
    "    e_w1_b = (np.dot(e_w1,bias_axis)/norm_2_bias**2) * bias_axis\n",
    "    \n",
    "    e_w2_b = (np.dot(e_w2,bias_axis)/norm_2_bias**2) * bias_axis\n",
    "    \n",
    "    sum_mu_orth = 0\n",
    "    for k in mu_orth:\n",
    "        k =k ** 2 \n",
    "        sum_mu_orth = sum_mu_orth + i\n",
    "\n",
    "    norm_2_mu_orth = math.sqrt(sum_mu_orth)\n",
    "    \n",
    "    \n",
    "    e_w1_b_corrected = math.sqrt(abs(1-(norm_2_mu_orth**2))) * ((e_w1_b - mu_b)/np.linalg.norm(e_w1_b - mu_orth - mu_b,1))\n",
    "    \n",
    "\n",
    "    e_w2_b_corrected = math.sqrt(abs(1-(norm_2_mu_orth**2))) * ((e_w2_b - mu_b)/np.linalg.norm(e_w2_b - mu_orth - mu_b,1))\n",
    "    \n",
    "    e1 = e_w1_b_corrected + mu_orth\n",
    "    \n",
    "    e2 = e_w2_b_corrected + mu_orth\n",
    "    \n",
    "    return e1,e2\n",
    "    \n",
    "    \n",
    "    ## START YOU CODE HERE\n",
    "    \n",
    "\n",
    "    ##END"
   ]
  },
  {
   "cell_type": "code",
   "execution_count": 57,
   "metadata": {
    "scrolled": true
   },
   "outputs": [
    {
     "name": "stdout",
     "output_type": "stream",
     "text": [
      "cosine similarities before equalizing:\n",
      "cosine_similarity(word_to_vec_map[\"man\"], gender) =  -0.1171109576533683\n",
      "cosine_similarity(word_to_vec_map[\"woman\"], gender) =  0.3566661884627037\n",
      "\n",
      "cosine similarities after equalizing:\n",
      "cosine_similarity(e1, gender) =  -0.00934778959133861\n",
      "cosine_similarity(e2, gender) =  0.009601543890486857\n"
     ]
    }
   ],
   "source": [
    "print(\"cosine similarities before equalizing:\")\n",
    "print(\"cosine_similarity(word_to_vec_map[\\\"man\\\"], gender) = \", cosine_similarity_function(word_to_vec_map[\"man\"], g))\n",
    "print(\"cosine_similarity(word_to_vec_map[\\\"woman\\\"], gender) = \", cosine_similarity_function(word_to_vec_map[\"woman\"], g))\n",
    "print()\n",
    "e1, e2 = equalize((\"man\", \"woman\"), g, word_to_vec_map)\n",
    "print(\"cosine similarities after equalizing:\")\n",
    "print(\"cosine_similarity(e1, gender) = \", cosine_similarity_function(e1, g))\n",
    "print(\"cosine_similarity(e2, gender) = \", cosine_similarity_function(e2, g))"
   ]
  },
  {
   "cell_type": "markdown",
   "metadata": {},
   "source": [
    "**TASK 12: What do you abserve?**\n",
    "\n",
    "***\n",
    "\n",
    "Before equalizing, the cosine similarity of \"man\" and \"woman\" with respect to g, which represented gender, was at -0.11711 and 0.35666 respectively. This shows that the word \"man\" is less bias towards the concept of gender as compared to the word \"woman\". \n",
    "\n",
    "After equalizing was done, the word \"man\" and \"woman\" has a value of cosine similarity of -0.0093477 and 0.009601 respectively. This shows that the word \"man\" and \"woman\" are almost equidistant with respect to gender, which shows that there are almost no difference in the word \"man\" and \"woman\".\n",
    "\n",
    "\n",
    "***"
   ]
  },
  {
   "cell_type": "markdown",
   "metadata": {
    "collapsed": true
   },
   "source": [
    "Please feel free to play with the input words in the cell above, to apply equalization to other pairs of words. \n",
    "\n",
    "These debiasing algorithms are very helpful for reducing bias, but are not perfect and do not eliminate all traces of bias. For example, one weakness of this implementation was that the bias direction $g$ was defined using only the pair of words _woman_ and _man_. As discussed earlier, if $g$ were defined by computing $g_1 = e_{woman} - e_{man}$; $g_2 = e_{mother} - e_{father}$; $g_3 = e_{girl} - e_{boy}$; and so on and averaging over them, you would obtain a better estimate of the \"gender\" dimension in the 50 dimensional word embedding space. Feel free to play with such variants as well.  \n",
    "                     "
   ]
  },
  {
   "cell_type": "markdown",
   "metadata": {},
   "source": [
    "# Congratulations!\n",
    "\n",
    "You've come to the end of this assignment, and have seen a lot of the ways that word vectors can be used as well as  modified. Here are the main points you should remember:\n",
    "\n",
    "- Cosine similarity a good way to compare similarity between pairs of word vectors. (Though L2 distance works too.) \n",
    "- For NLP applications, using a pre-trained set of word vectors from the internet is often a good way to get started. \n",
    "- Bias in data is an important problem.\n",
    "- Neutralize and equalize allow to reduce bias in the data.\n",
    "\n",
    "Congratulations on finishing this notebook! \n",
    "\n"
   ]
  },
  {
   "cell_type": "markdown",
   "metadata": {},
   "source": [
    "# References\n",
    "- The debiasing algorithm is from Bolukbasi et al., 2016, [Man is to Computer Programmer as Woman is to\n",
    "Homemaker? Debiasing Word Embeddings](https://papers.nips.cc/paper/6228-man-is-to-computer-programmer-as-woman-is-to-homemaker-debiasing-word-embeddings.pdf)\n",
    "- The GloVe word embeddings were due to Jeffrey Pennington, Richard Socher, and Christopher D. Manning. (https://nlp.stanford.edu/projects/glove/)\n"
   ]
  },
  {
   "cell_type": "code",
   "execution_count": null,
   "metadata": {},
   "outputs": [],
   "source": []
  }
 ],
 "metadata": {
  "coursera": {
   "course_slug": "nlp-sequence-models",
   "graded_item_id": "8hb5s",
   "launcher_item_id": "5NrJ6"
  },
  "kernelspec": {
   "display_name": "Python 3",
   "language": "python",
   "name": "python3"
  },
  "language_info": {
   "codemirror_mode": {
    "name": "ipython",
    "version": 3
   },
   "file_extension": ".py",
   "mimetype": "text/x-python",
   "name": "python",
   "nbconvert_exporter": "python",
   "pygments_lexer": "ipython3",
   "version": "3.7.4"
  }
 },
 "nbformat": 4,
 "nbformat_minor": 2
}
